{
 "cells": [
  {
   "cell_type": "code",
   "execution_count": 1,
   "metadata": {},
   "outputs": [],
   "source": [
    "import pandas as pd\n",
    "import numpy as np\n",
    "import matplotlib.pyplot as plt"
   ]
  },
  {
   "cell_type": "code",
   "execution_count": 2,
   "metadata": {},
   "outputs": [],
   "source": [
    "# need this cell to import the help functions:\n",
    "\n",
    "import os\n",
    "path_sections = os.getcwd().split('\\\\')\n",
    "if path_sections[-1] != 'CGM':\n",
    "    os.chdir('./..')"
   ]
  },
  {
   "cell_type": "code",
   "execution_count": 3,
   "metadata": {},
   "outputs": [],
   "source": [
    "# import help functions:\n",
    "\n",
    "from data_processing.cgm_data import CGMData\n",
    "from data_processing.cgm_data_helper import plot_series_with_food\n",
    "from data_processing.derived_datasets import max_glucose_dataset,max_glucose_between_meals_dataset\n",
    "\n",
    "from sklearn.linear_model import LinearRegression,LogisticRegression\n",
    "from sklearn.model_selection import train_test_split\n",
    "from sklearn.model_selection import KFold\n",
    "from sklearn.metrics import mean_squared_error\n",
    "from sklearn.neighbors import KNeighborsRegressor\n",
    "from sklearn.metrics import confusion_matrix"
   ]
  },
  {
   "cell_type": "code",
   "execution_count": 4,
   "metadata": {},
   "outputs": [],
   "source": [
    "data = CGMData()"
   ]
  },
  {
   "cell_type": "code",
   "execution_count": 5,
   "metadata": {},
   "outputs": [],
   "source": [
    "# participant_numbers = data.shape()\n",
    "participant_numbers = 13"
   ]
  },
  {
   "cell_type": "code",
   "execution_count": 6,
   "metadata": {},
   "outputs": [],
   "source": [
    "# Finding 5/95th percentile idea from Dan Visscher\n",
    "high_glu = []\n",
    "low_glu = []\n",
    "\n",
    "# Find 5th/95th percentile for glucose range for each patient\n",
    "for i in range(1,participant_numbers+1):\n",
    "    low_glu.append(np.percentile(data[i].glu, 5))\n",
    "    high_glu.append(np.percentile(data[i].glu, 95))\n"
   ]
  },
  {
   "cell_type": "code",
   "execution_count": 7,
   "metadata": {},
   "outputs": [
    {
     "name": "stdout",
     "output_type": "stream",
     "text": [
      "[137.0, 167.0, 140.0, 145.0, 129.0, 188.0, 128.0, 143.8499999999999, 177.0, 178.0, 166.0, 164.6500000000001, 168.0]\n",
      "[85.0, 99.0, 85.0, 85.0, 83.0, 93.0, 70.0, 83.0, 97.2, 81.0, 87.0, 99.0, 97.85000000000001]\n"
     ]
    }
   ],
   "source": [
    "print(high_glu)\n",
    "print(low_glu)"
   ]
  },
  {
   "cell_type": "code",
   "execution_count": 8,
   "metadata": {},
   "outputs": [
    {
     "name": "stdout",
     "output_type": "stream",
     "text": [
      "<class 'pandas.core.frame.DataFrame'>\n",
      "Index: 263 entries, 0 to 6\n",
      "Data columns (total 18 columns):\n",
      " #   Column         Non-Null Count  Dtype  \n",
      "---  ------         --------------  -----  \n",
      " 0   calorie        263 non-null    float64\n",
      " 1   total_carb     263 non-null    float64\n",
      " 2   dietary_fiber  263 non-null    float64\n",
      " 3   sugar          263 non-null    float64\n",
      " 4   protein        263 non-null    float64\n",
      " 5   total_fat      263 non-null    float64\n",
      " 6   gi             263 non-null    float64\n",
      " 7   gl             263 non-null    float64\n",
      " 8   recent_meals   263 non-null    float64\n",
      " 9   participant    263 non-null    int64  \n",
      " 10  max_glucose    232 non-null    float64\n",
      " 11  start_glucose  232 non-null    float64\n",
      " 12  diff_glucose   232 non-null    float64\n",
      " 13  mean_temp      196 non-null    float64\n",
      " 14  mean_hr        197 non-null    float64\n",
      " 15  mean_acc       196 non-null    float64\n",
      " 16  mean_eda       196 non-null    float64\n",
      " 17  high_glucose   263 non-null    bool   \n",
      "dtypes: bool(1), float64(16), int64(1)\n",
      "memory usage: 37.2 KB\n"
     ]
    }
   ],
   "source": [
    "df = pd.DataFrame()\n",
    "\n",
    "for pn in range(1,participant_numbers+1):\n",
    "    # Select participant number\n",
    "    participant_number = pn\n",
    "    high_glu_par = high_glu[participant_number-1]\n",
    "\n",
    "    # Max glucose between meals:\n",
    "    df_sub = max_glucose_dataset(cgm_data=data,participant_num=participant_number,glu_thresh=high_glu_par)\n",
    "    df = pd.concat([df, pd.DataFrame(df_sub)])\n",
    "\n",
    "df.info()\n"
   ]
  },
  {
   "cell_type": "code",
   "execution_count": 9,
   "metadata": {},
   "outputs": [
    {
     "data": {
      "text/plain": [
       "31"
      ]
     },
     "execution_count": 9,
     "metadata": {},
     "output_type": "execute_result"
    }
   ],
   "source": [
    "# Number of food intake entries for which there is no corresponding glucose data\n",
    "df['max_glucose'].isna().sum()"
   ]
  },
  {
   "cell_type": "code",
   "execution_count": 10,
   "metadata": {},
   "outputs": [],
   "source": [
    "# Drop these data points\n",
    "df = df.dropna(subset=['max_glucose'])"
   ]
  },
  {
   "cell_type": "code",
   "execution_count": 11,
   "metadata": {},
   "outputs": [
    {
     "data": {
      "text/plain": [
       "0"
      ]
     },
     "execution_count": 11,
     "metadata": {},
     "output_type": "execute_result"
    }
   ],
   "source": [
    "# Check\n",
    "df['max_glucose'].isna().sum()"
   ]
  },
  {
   "cell_type": "code",
   "execution_count": 12,
   "metadata": {},
   "outputs": [
    {
     "data": {
      "text/html": [
       "<div>\n",
       "<style scoped>\n",
       "    .dataframe tbody tr th:only-of-type {\n",
       "        vertical-align: middle;\n",
       "    }\n",
       "\n",
       "    .dataframe tbody tr th {\n",
       "        vertical-align: top;\n",
       "    }\n",
       "\n",
       "    .dataframe thead th {\n",
       "        text-align: right;\n",
       "    }\n",
       "</style>\n",
       "<table border=\"1\" class=\"dataframe\">\n",
       "  <thead>\n",
       "    <tr style=\"text-align: right;\">\n",
       "      <th></th>\n",
       "      <th>calorie</th>\n",
       "      <th>total_carb</th>\n",
       "      <th>dietary_fiber</th>\n",
       "      <th>sugar</th>\n",
       "      <th>protein</th>\n",
       "      <th>total_fat</th>\n",
       "      <th>gi</th>\n",
       "      <th>gl</th>\n",
       "      <th>recent_meals</th>\n",
       "      <th>participant</th>\n",
       "      <th>max_glucose</th>\n",
       "      <th>start_glucose</th>\n",
       "      <th>diff_glucose</th>\n",
       "      <th>mean_temp</th>\n",
       "      <th>mean_hr</th>\n",
       "      <th>mean_acc</th>\n",
       "      <th>mean_eda</th>\n",
       "      <th>high_glucose</th>\n",
       "    </tr>\n",
       "  </thead>\n",
       "  <tbody>\n",
       "    <tr>\n",
       "      <th>0</th>\n",
       "      <td>456.0</td>\n",
       "      <td>85.0</td>\n",
       "      <td>1.7</td>\n",
       "      <td>83.0</td>\n",
       "      <td>16.0</td>\n",
       "      <td>3.3</td>\n",
       "      <td>33.0</td>\n",
       "      <td>28.050</td>\n",
       "      <td>1.0</td>\n",
       "      <td>1</td>\n",
       "      <td>143.0</td>\n",
       "      <td>59.0</td>\n",
       "      <td>84.0</td>\n",
       "      <td>33.605343</td>\n",
       "      <td>76.982429</td>\n",
       "      <td>0.924898</td>\n",
       "      <td>0.478566</td>\n",
       "      <td>True</td>\n",
       "    </tr>\n",
       "    <tr>\n",
       "      <th>1</th>\n",
       "      <td>488.0</td>\n",
       "      <td>2.5</td>\n",
       "      <td>1.2</td>\n",
       "      <td>0.8</td>\n",
       "      <td>63.4</td>\n",
       "      <td>23.1</td>\n",
       "      <td>28.0</td>\n",
       "      <td>0.700</td>\n",
       "      <td>1.0</td>\n",
       "      <td>1</td>\n",
       "      <td>106.0</td>\n",
       "      <td>104.0</td>\n",
       "      <td>2.0</td>\n",
       "      <td>34.328719</td>\n",
       "      <td>68.960515</td>\n",
       "      <td>0.661794</td>\n",
       "      <td>2.321904</td>\n",
       "      <td>False</td>\n",
       "    </tr>\n",
       "    <tr>\n",
       "      <th>2</th>\n",
       "      <td>230.0</td>\n",
       "      <td>35.0</td>\n",
       "      <td>0.0</td>\n",
       "      <td>18.0</td>\n",
       "      <td>13.0</td>\n",
       "      <td>0.0</td>\n",
       "      <td>56.5</td>\n",
       "      <td>24.620</td>\n",
       "      <td>1.0</td>\n",
       "      <td>1</td>\n",
       "      <td>122.0</td>\n",
       "      <td>92.0</td>\n",
       "      <td>30.0</td>\n",
       "      <td>33.882256</td>\n",
       "      <td>77.987660</td>\n",
       "      <td>0.791241</td>\n",
       "      <td>0.568190</td>\n",
       "      <td>False</td>\n",
       "    </tr>\n",
       "    <tr>\n",
       "      <th>3</th>\n",
       "      <td>280.0</td>\n",
       "      <td>30.0</td>\n",
       "      <td>0.0</td>\n",
       "      <td>22.0</td>\n",
       "      <td>4.0</td>\n",
       "      <td>0.0</td>\n",
       "      <td>62.0</td>\n",
       "      <td>18.600</td>\n",
       "      <td>1.0</td>\n",
       "      <td>1</td>\n",
       "      <td>110.0</td>\n",
       "      <td>89.0</td>\n",
       "      <td>21.0</td>\n",
       "      <td>31.511428</td>\n",
       "      <td>87.463506</td>\n",
       "      <td>0.964078</td>\n",
       "      <td>0.483317</td>\n",
       "      <td>False</td>\n",
       "    </tr>\n",
       "    <tr>\n",
       "      <th>4</th>\n",
       "      <td>358.0</td>\n",
       "      <td>14.4</td>\n",
       "      <td>0.0</td>\n",
       "      <td>8.7</td>\n",
       "      <td>13.9</td>\n",
       "      <td>0.0</td>\n",
       "      <td>28.0</td>\n",
       "      <td>4.032</td>\n",
       "      <td>1.0</td>\n",
       "      <td>1</td>\n",
       "      <td>124.0</td>\n",
       "      <td>105.0</td>\n",
       "      <td>19.0</td>\n",
       "      <td>30.470737</td>\n",
       "      <td>75.821212</td>\n",
       "      <td>0.461761</td>\n",
       "      <td>0.209723</td>\n",
       "      <td>False</td>\n",
       "    </tr>\n",
       "    <tr>\n",
       "      <th>...</th>\n",
       "      <td>...</td>\n",
       "      <td>...</td>\n",
       "      <td>...</td>\n",
       "      <td>...</td>\n",
       "      <td>...</td>\n",
       "      <td>...</td>\n",
       "      <td>...</td>\n",
       "      <td>...</td>\n",
       "      <td>...</td>\n",
       "      <td>...</td>\n",
       "      <td>...</td>\n",
       "      <td>...</td>\n",
       "      <td>...</td>\n",
       "      <td>...</td>\n",
       "      <td>...</td>\n",
       "      <td>...</td>\n",
       "      <td>...</td>\n",
       "      <td>...</td>\n",
       "    </tr>\n",
       "    <tr>\n",
       "      <th>1</th>\n",
       "      <td>230.0</td>\n",
       "      <td>1.8</td>\n",
       "      <td>0.0</td>\n",
       "      <td>0.3</td>\n",
       "      <td>12.9</td>\n",
       "      <td>18.2</td>\n",
       "      <td>85.0</td>\n",
       "      <td>1.530</td>\n",
       "      <td>1.0</td>\n",
       "      <td>12</td>\n",
       "      <td>117.0</td>\n",
       "      <td>117.0</td>\n",
       "      <td>0.0</td>\n",
       "      <td>NaN</td>\n",
       "      <td>NaN</td>\n",
       "      <td>NaN</td>\n",
       "      <td>NaN</td>\n",
       "      <td>False</td>\n",
       "    </tr>\n",
       "    <tr>\n",
       "      <th>2</th>\n",
       "      <td>280.0</td>\n",
       "      <td>56.5</td>\n",
       "      <td>1.0</td>\n",
       "      <td>24.0</td>\n",
       "      <td>8.0</td>\n",
       "      <td>2.5</td>\n",
       "      <td>56.5</td>\n",
       "      <td>45.460</td>\n",
       "      <td>1.0</td>\n",
       "      <td>12</td>\n",
       "      <td>188.0</td>\n",
       "      <td>103.0</td>\n",
       "      <td>85.0</td>\n",
       "      <td>33.643691</td>\n",
       "      <td>63.804413</td>\n",
       "      <td>0.431399</td>\n",
       "      <td>0.246659</td>\n",
       "      <td>True</td>\n",
       "    </tr>\n",
       "    <tr>\n",
       "      <th>3</th>\n",
       "      <td>304.0</td>\n",
       "      <td>1.3</td>\n",
       "      <td>0.0</td>\n",
       "      <td>0.4</td>\n",
       "      <td>25.0</td>\n",
       "      <td>21.5</td>\n",
       "      <td>28.0</td>\n",
       "      <td>0.364</td>\n",
       "      <td>1.0</td>\n",
       "      <td>12</td>\n",
       "      <td>102.0</td>\n",
       "      <td>102.0</td>\n",
       "      <td>0.0</td>\n",
       "      <td>31.711159</td>\n",
       "      <td>79.075091</td>\n",
       "      <td>0.988530</td>\n",
       "      <td>1.312554</td>\n",
       "      <td>False</td>\n",
       "    </tr>\n",
       "    <tr>\n",
       "      <th>4</th>\n",
       "      <td>2.4</td>\n",
       "      <td>3.3</td>\n",
       "      <td>0.0</td>\n",
       "      <td>0.0</td>\n",
       "      <td>0.3</td>\n",
       "      <td>0.1</td>\n",
       "      <td>28.0</td>\n",
       "      <td>0.924</td>\n",
       "      <td>1.0</td>\n",
       "      <td>12</td>\n",
       "      <td>123.0</td>\n",
       "      <td>119.0</td>\n",
       "      <td>4.0</td>\n",
       "      <td>29.560236</td>\n",
       "      <td>83.110328</td>\n",
       "      <td>1.055531</td>\n",
       "      <td>0.236031</td>\n",
       "      <td>False</td>\n",
       "    </tr>\n",
       "    <tr>\n",
       "      <th>5</th>\n",
       "      <td>576.0</td>\n",
       "      <td>22.0</td>\n",
       "      <td>3.5</td>\n",
       "      <td>5.9</td>\n",
       "      <td>43.0</td>\n",
       "      <td>35.0</td>\n",
       "      <td>28.0</td>\n",
       "      <td>6.160</td>\n",
       "      <td>1.0</td>\n",
       "      <td>12</td>\n",
       "      <td>123.0</td>\n",
       "      <td>118.0</td>\n",
       "      <td>5.0</td>\n",
       "      <td>31.433652</td>\n",
       "      <td>88.768593</td>\n",
       "      <td>1.234794</td>\n",
       "      <td>0.244170</td>\n",
       "      <td>False</td>\n",
       "    </tr>\n",
       "  </tbody>\n",
       "</table>\n",
       "<p>232 rows × 18 columns</p>\n",
       "</div>"
      ],
      "text/plain": [
       "    calorie  total_carb  dietary_fiber  sugar  protein  total_fat    gi  \\\n",
       "0     456.0        85.0            1.7   83.0     16.0        3.3  33.0   \n",
       "1     488.0         2.5            1.2    0.8     63.4       23.1  28.0   \n",
       "2     230.0        35.0            0.0   18.0     13.0        0.0  56.5   \n",
       "3     280.0        30.0            0.0   22.0      4.0        0.0  62.0   \n",
       "4     358.0        14.4            0.0    8.7     13.9        0.0  28.0   \n",
       "..      ...         ...            ...    ...      ...        ...   ...   \n",
       "1     230.0         1.8            0.0    0.3     12.9       18.2  85.0   \n",
       "2     280.0        56.5            1.0   24.0      8.0        2.5  56.5   \n",
       "3     304.0         1.3            0.0    0.4     25.0       21.5  28.0   \n",
       "4       2.4         3.3            0.0    0.0      0.3        0.1  28.0   \n",
       "5     576.0        22.0            3.5    5.9     43.0       35.0  28.0   \n",
       "\n",
       "        gl  recent_meals  participant  max_glucose  start_glucose  \\\n",
       "0   28.050           1.0            1        143.0           59.0   \n",
       "1    0.700           1.0            1        106.0          104.0   \n",
       "2   24.620           1.0            1        122.0           92.0   \n",
       "3   18.600           1.0            1        110.0           89.0   \n",
       "4    4.032           1.0            1        124.0          105.0   \n",
       "..     ...           ...          ...          ...            ...   \n",
       "1    1.530           1.0           12        117.0          117.0   \n",
       "2   45.460           1.0           12        188.0          103.0   \n",
       "3    0.364           1.0           12        102.0          102.0   \n",
       "4    0.924           1.0           12        123.0          119.0   \n",
       "5    6.160           1.0           12        123.0          118.0   \n",
       "\n",
       "    diff_glucose  mean_temp    mean_hr  mean_acc  mean_eda  high_glucose  \n",
       "0           84.0  33.605343  76.982429  0.924898  0.478566          True  \n",
       "1            2.0  34.328719  68.960515  0.661794  2.321904         False  \n",
       "2           30.0  33.882256  77.987660  0.791241  0.568190         False  \n",
       "3           21.0  31.511428  87.463506  0.964078  0.483317         False  \n",
       "4           19.0  30.470737  75.821212  0.461761  0.209723         False  \n",
       "..           ...        ...        ...       ...       ...           ...  \n",
       "1            0.0        NaN        NaN       NaN       NaN         False  \n",
       "2           85.0  33.643691  63.804413  0.431399  0.246659          True  \n",
       "3            0.0  31.711159  79.075091  0.988530  1.312554         False  \n",
       "4            4.0  29.560236  83.110328  1.055531  0.236031         False  \n",
       "5            5.0  31.433652  88.768593  1.234794  0.244170         False  \n",
       "\n",
       "[232 rows x 18 columns]"
      ]
     },
     "execution_count": 12,
     "metadata": {},
     "output_type": "execute_result"
    }
   ],
   "source": [
    "df"
   ]
  },
  {
   "cell_type": "code",
   "execution_count": 13,
   "metadata": {},
   "outputs": [],
   "source": [
    "# Remove outlier\n",
    "df = df[df['total_carb'] <= 400]"
   ]
  },
  {
   "cell_type": "code",
   "execution_count": 14,
   "metadata": {},
   "outputs": [],
   "source": [
    "# Define variables to fit for Logistic Regression\n",
    "\n",
    "X = df[['total_carb','sugar','protein','total_fat','gi','start_glucose']]\n",
    "y = df.high_glucose.values"
   ]
  },
  {
   "cell_type": "code",
   "execution_count": 15,
   "metadata": {},
   "outputs": [
    {
     "data": {
      "text/html": [
       "<div>\n",
       "<style scoped>\n",
       "    .dataframe tbody tr th:only-of-type {\n",
       "        vertical-align: middle;\n",
       "    }\n",
       "\n",
       "    .dataframe tbody tr th {\n",
       "        vertical-align: top;\n",
       "    }\n",
       "\n",
       "    .dataframe thead th {\n",
       "        text-align: right;\n",
       "    }\n",
       "</style>\n",
       "<table border=\"1\" class=\"dataframe\">\n",
       "  <thead>\n",
       "    <tr style=\"text-align: right;\">\n",
       "      <th></th>\n",
       "      <th>total_carb</th>\n",
       "      <th>sugar</th>\n",
       "      <th>protein</th>\n",
       "      <th>total_fat</th>\n",
       "      <th>gi</th>\n",
       "      <th>start_glucose</th>\n",
       "    </tr>\n",
       "  </thead>\n",
       "  <tbody>\n",
       "    <tr>\n",
       "      <th>0</th>\n",
       "      <td>85.0</td>\n",
       "      <td>83.0</td>\n",
       "      <td>16.0</td>\n",
       "      <td>3.3</td>\n",
       "      <td>33.0</td>\n",
       "      <td>59.0</td>\n",
       "    </tr>\n",
       "    <tr>\n",
       "      <th>1</th>\n",
       "      <td>2.5</td>\n",
       "      <td>0.8</td>\n",
       "      <td>63.4</td>\n",
       "      <td>23.1</td>\n",
       "      <td>28.0</td>\n",
       "      <td>104.0</td>\n",
       "    </tr>\n",
       "    <tr>\n",
       "      <th>2</th>\n",
       "      <td>35.0</td>\n",
       "      <td>18.0</td>\n",
       "      <td>13.0</td>\n",
       "      <td>0.0</td>\n",
       "      <td>56.5</td>\n",
       "      <td>92.0</td>\n",
       "    </tr>\n",
       "    <tr>\n",
       "      <th>3</th>\n",
       "      <td>30.0</td>\n",
       "      <td>22.0</td>\n",
       "      <td>4.0</td>\n",
       "      <td>0.0</td>\n",
       "      <td>62.0</td>\n",
       "      <td>89.0</td>\n",
       "    </tr>\n",
       "    <tr>\n",
       "      <th>4</th>\n",
       "      <td>14.4</td>\n",
       "      <td>8.7</td>\n",
       "      <td>13.9</td>\n",
       "      <td>0.0</td>\n",
       "      <td>28.0</td>\n",
       "      <td>105.0</td>\n",
       "    </tr>\n",
       "    <tr>\n",
       "      <th>...</th>\n",
       "      <td>...</td>\n",
       "      <td>...</td>\n",
       "      <td>...</td>\n",
       "      <td>...</td>\n",
       "      <td>...</td>\n",
       "      <td>...</td>\n",
       "    </tr>\n",
       "    <tr>\n",
       "      <th>1</th>\n",
       "      <td>1.8</td>\n",
       "      <td>0.3</td>\n",
       "      <td>12.9</td>\n",
       "      <td>18.2</td>\n",
       "      <td>85.0</td>\n",
       "      <td>117.0</td>\n",
       "    </tr>\n",
       "    <tr>\n",
       "      <th>2</th>\n",
       "      <td>56.5</td>\n",
       "      <td>24.0</td>\n",
       "      <td>8.0</td>\n",
       "      <td>2.5</td>\n",
       "      <td>56.5</td>\n",
       "      <td>103.0</td>\n",
       "    </tr>\n",
       "    <tr>\n",
       "      <th>3</th>\n",
       "      <td>1.3</td>\n",
       "      <td>0.4</td>\n",
       "      <td>25.0</td>\n",
       "      <td>21.5</td>\n",
       "      <td>28.0</td>\n",
       "      <td>102.0</td>\n",
       "    </tr>\n",
       "    <tr>\n",
       "      <th>4</th>\n",
       "      <td>3.3</td>\n",
       "      <td>0.0</td>\n",
       "      <td>0.3</td>\n",
       "      <td>0.1</td>\n",
       "      <td>28.0</td>\n",
       "      <td>119.0</td>\n",
       "    </tr>\n",
       "    <tr>\n",
       "      <th>5</th>\n",
       "      <td>22.0</td>\n",
       "      <td>5.9</td>\n",
       "      <td>43.0</td>\n",
       "      <td>35.0</td>\n",
       "      <td>28.0</td>\n",
       "      <td>118.0</td>\n",
       "    </tr>\n",
       "  </tbody>\n",
       "</table>\n",
       "<p>231 rows × 6 columns</p>\n",
       "</div>"
      ],
      "text/plain": [
       "    total_carb  sugar  protein  total_fat    gi  start_glucose\n",
       "0         85.0   83.0     16.0        3.3  33.0           59.0\n",
       "1          2.5    0.8     63.4       23.1  28.0          104.0\n",
       "2         35.0   18.0     13.0        0.0  56.5           92.0\n",
       "3         30.0   22.0      4.0        0.0  62.0           89.0\n",
       "4         14.4    8.7     13.9        0.0  28.0          105.0\n",
       "..         ...    ...      ...        ...   ...            ...\n",
       "1          1.8    0.3     12.9       18.2  85.0          117.0\n",
       "2         56.5   24.0      8.0        2.5  56.5          103.0\n",
       "3          1.3    0.4     25.0       21.5  28.0          102.0\n",
       "4          3.3    0.0      0.3        0.1  28.0          119.0\n",
       "5         22.0    5.9     43.0       35.0  28.0          118.0\n",
       "\n",
       "[231 rows x 6 columns]"
      ]
     },
     "execution_count": 15,
     "metadata": {},
     "output_type": "execute_result"
    }
   ],
   "source": [
    "X"
   ]
  },
  {
   "cell_type": "code",
   "execution_count": 16,
   "metadata": {},
   "outputs": [],
   "source": [
    "# Split testing and training data\n",
    "\n",
    "X_train, X_test, y_train, y_test = train_test_split(X, y,\n",
    "                                                       shuffle=True,\n",
    "                                                       random_state=435,\n",
    "                                                       test_size=.2,\n",
    "                                                       stratify=y)"
   ]
  },
  {
   "cell_type": "code",
   "execution_count": 17,
   "metadata": {},
   "outputs": [
    {
     "data": {
      "text/html": [
       "<div>\n",
       "<style scoped>\n",
       "    .dataframe tbody tr th:only-of-type {\n",
       "        vertical-align: middle;\n",
       "    }\n",
       "\n",
       "    .dataframe tbody tr th {\n",
       "        vertical-align: top;\n",
       "    }\n",
       "\n",
       "    .dataframe thead th {\n",
       "        text-align: right;\n",
       "    }\n",
       "</style>\n",
       "<table border=\"1\" class=\"dataframe\">\n",
       "  <thead>\n",
       "    <tr style=\"text-align: right;\">\n",
       "      <th></th>\n",
       "      <th>total_carb</th>\n",
       "      <th>sugar</th>\n",
       "      <th>protein</th>\n",
       "      <th>total_fat</th>\n",
       "      <th>gi</th>\n",
       "      <th>start_glucose</th>\n",
       "    </tr>\n",
       "  </thead>\n",
       "  <tbody>\n",
       "    <tr>\n",
       "      <th>0</th>\n",
       "      <td>85.0</td>\n",
       "      <td>83.0</td>\n",
       "      <td>16.0</td>\n",
       "      <td>3.3</td>\n",
       "      <td>33.000000</td>\n",
       "      <td>59.0</td>\n",
       "    </tr>\n",
       "    <tr>\n",
       "      <th>7</th>\n",
       "      <td>56.5</td>\n",
       "      <td>24.0</td>\n",
       "      <td>8.0</td>\n",
       "      <td>2.5</td>\n",
       "      <td>85.000000</td>\n",
       "      <td>108.0</td>\n",
       "    </tr>\n",
       "    <tr>\n",
       "      <th>0</th>\n",
       "      <td>153.1</td>\n",
       "      <td>72.5</td>\n",
       "      <td>30.6</td>\n",
       "      <td>26.1</td>\n",
       "      <td>58.333333</td>\n",
       "      <td>99.0</td>\n",
       "    </tr>\n",
       "    <tr>\n",
       "      <th>6</th>\n",
       "      <td>38.0</td>\n",
       "      <td>0.4</td>\n",
       "      <td>4.0</td>\n",
       "      <td>0.0</td>\n",
       "      <td>85.000000</td>\n",
       "      <td>97.0</td>\n",
       "    </tr>\n",
       "    <tr>\n",
       "      <th>18</th>\n",
       "      <td>35.0</td>\n",
       "      <td>18.0</td>\n",
       "      <td>13.0</td>\n",
       "      <td>0.0</td>\n",
       "      <td>56.500000</td>\n",
       "      <td>103.0</td>\n",
       "    </tr>\n",
       "    <tr>\n",
       "      <th>...</th>\n",
       "      <td>...</td>\n",
       "      <td>...</td>\n",
       "      <td>...</td>\n",
       "      <td>...</td>\n",
       "      <td>...</td>\n",
       "      <td>...</td>\n",
       "    </tr>\n",
       "    <tr>\n",
       "      <th>20</th>\n",
       "      <td>36.0</td>\n",
       "      <td>3.0</td>\n",
       "      <td>4.1</td>\n",
       "      <td>8.8</td>\n",
       "      <td>81.000000</td>\n",
       "      <td>133.0</td>\n",
       "    </tr>\n",
       "    <tr>\n",
       "      <th>13</th>\n",
       "      <td>68.9</td>\n",
       "      <td>3.8</td>\n",
       "      <td>45.2</td>\n",
       "      <td>0.0</td>\n",
       "      <td>42.250000</td>\n",
       "      <td>77.0</td>\n",
       "    </tr>\n",
       "    <tr>\n",
       "      <th>16</th>\n",
       "      <td>3.6</td>\n",
       "      <td>0.7</td>\n",
       "      <td>4.3</td>\n",
       "      <td>11.4</td>\n",
       "      <td>28.000000</td>\n",
       "      <td>106.0</td>\n",
       "    </tr>\n",
       "    <tr>\n",
       "      <th>7</th>\n",
       "      <td>41.0</td>\n",
       "      <td>1.9</td>\n",
       "      <td>54.0</td>\n",
       "      <td>40.0</td>\n",
       "      <td>45.000000</td>\n",
       "      <td>100.0</td>\n",
       "    </tr>\n",
       "    <tr>\n",
       "      <th>30</th>\n",
       "      <td>82.0</td>\n",
       "      <td>40.0</td>\n",
       "      <td>26.0</td>\n",
       "      <td>26.0</td>\n",
       "      <td>85.000000</td>\n",
       "      <td>104.0</td>\n",
       "    </tr>\n",
       "  </tbody>\n",
       "</table>\n",
       "<p>184 rows × 6 columns</p>\n",
       "</div>"
      ],
      "text/plain": [
       "    total_carb  sugar  protein  total_fat         gi  start_glucose\n",
       "0         85.0   83.0     16.0        3.3  33.000000           59.0\n",
       "7         56.5   24.0      8.0        2.5  85.000000          108.0\n",
       "0        153.1   72.5     30.6       26.1  58.333333           99.0\n",
       "6         38.0    0.4      4.0        0.0  85.000000           97.0\n",
       "18        35.0   18.0     13.0        0.0  56.500000          103.0\n",
       "..         ...    ...      ...        ...        ...            ...\n",
       "20        36.0    3.0      4.1        8.8  81.000000          133.0\n",
       "13        68.9    3.8     45.2        0.0  42.250000           77.0\n",
       "16         3.6    0.7      4.3       11.4  28.000000          106.0\n",
       "7         41.0    1.9     54.0       40.0  45.000000          100.0\n",
       "30        82.0   40.0     26.0       26.0  85.000000          104.0\n",
       "\n",
       "[184 rows x 6 columns]"
      ]
     },
     "execution_count": 17,
     "metadata": {},
     "output_type": "execute_result"
    }
   ],
   "source": [
    "X_train"
   ]
  },
  {
   "cell_type": "markdown",
   "metadata": {},
   "source": [
    "# Baseline model: categorize high glucose using total carbs"
   ]
  },
  {
   "cell_type": "code",
   "execution_count": 18,
   "metadata": {},
   "outputs": [
    {
     "data": {
      "image/png": "[encoded data removed]",
      "text/plain": [
       "<Figure size 700x500 with 1 Axes>"
      ]
     },
     "metadata": {},
     "output_type": "display_data"
    }
   ],
   "source": [
    "# Plot the training data\n",
    "\n",
    "plt.figure(figsize = (7,5))\n",
    "\n",
    "plt.scatter(X_train['total_carb'],y_train)\n",
    "plt.ylim((-.1,1.1))\n",
    "plt.xlabel(\"Total Carbs\",fontsize = 12)\n",
    "plt.ylabel(\"High Glucose\",fontsize = 12)\n",
    "\n",
    "plt.show()"
   ]
  },
  {
   "cell_type": "code",
   "execution_count": 38,
   "metadata": {},
   "outputs": [
    {
     "data": {
      "text/html": [
       "<style>#sk-container-id-3 {color: black;background-color: white;}#sk-container-id-3 pre{padding: 0;}#sk-container-id-3 div.sk-toggleable {background-color: white;}#sk-container-id-3 label.sk-toggleable__label {cursor: pointer;display: block;width: 100%;margin-bottom: 0;padding: 0.3em;box-sizing: border-box;text-align: center;}#sk-container-id-3 label.sk-toggleable__label-arrow:before {content: \"▸\";float: left;margin-right: 0.25em;color: #696969;}#sk-container-id-3 label.sk-toggleable__label-arrow:hover:before {color: black;}#sk-container-id-3 div.sk-estimator:hover label.sk-toggleable__label-arrow:before {color: black;}#sk-container-id-3 div.sk-toggleable__content {max-height: 0;max-width: 0;overflow: hidden;text-align: left;background-color: #f0f8ff;}#sk-container-id-3 div.sk-toggleable__content pre {margin: 0.2em;color: black;border-radius: 0.25em;background-color: #f0f8ff;}#sk-container-id-3 input.sk-toggleable__control:checked~div.sk-toggleable__content {max-height: 200px;max-width: 100%;overflow: auto;}#sk-container-id-3 input.sk-toggleable__control:checked~label.sk-toggleable__label-arrow:before {content: \"▾\";}#sk-container-id-3 div.sk-estimator input.sk-toggleable__control:checked~label.sk-toggleable__label {background-color: #d4ebff;}#sk-container-id-3 div.sk-label input.sk-toggleable__control:checked~label.sk-toggleable__label {background-color: #d4ebff;}#sk-container-id-3 input.sk-hidden--visually {border: 0;clip: rect(1px 1px 1px 1px);clip: rect(1px, 1px, 1px, 1px);height: 1px;margin: -1px;overflow: hidden;padding: 0;position: absolute;width: 1px;}#sk-container-id-3 div.sk-estimator {font-family: monospace;background-color: #f0f8ff;border: 1px dotted black;border-radius: 0.25em;box-sizing: border-box;margin-bottom: 0.5em;}#sk-container-id-3 div.sk-estimator:hover {background-color: #d4ebff;}#sk-container-id-3 div.sk-parallel-item::after {content: \"\";width: 100%;border-bottom: 1px solid gray;flex-grow: 1;}#sk-container-id-3 div.sk-label:hover label.sk-toggleable__label {background-color: #d4ebff;}#sk-container-id-3 div.sk-serial::before {content: \"\";position: absolute;border-left: 1px solid gray;box-sizing: border-box;top: 0;bottom: 0;left: 50%;z-index: 0;}#sk-container-id-3 div.sk-serial {display: flex;flex-direction: column;align-items: center;background-color: white;padding-right: 0.2em;padding-left: 0.2em;position: relative;}#sk-container-id-3 div.sk-item {position: relative;z-index: 1;}#sk-container-id-3 div.sk-parallel {display: flex;align-items: stretch;justify-content: center;background-color: white;position: relative;}#sk-container-id-3 div.sk-item::before, #sk-container-id-3 div.sk-parallel-item::before {content: \"\";position: absolute;border-left: 1px solid gray;box-sizing: border-box;top: 0;bottom: 0;left: 50%;z-index: -1;}#sk-container-id-3 div.sk-parallel-item {display: flex;flex-direction: column;z-index: 1;position: relative;background-color: white;}#sk-container-id-3 div.sk-parallel-item:first-child::after {align-self: flex-end;width: 50%;}#sk-container-id-3 div.sk-parallel-item:last-child::after {align-self: flex-start;width: 50%;}#sk-container-id-3 div.sk-parallel-item:only-child::after {width: 0;}#sk-container-id-3 div.sk-dashed-wrapped {border: 1px dashed gray;margin: 0 0.4em 0.5em 0.4em;box-sizing: border-box;padding-bottom: 0.4em;background-color: white;}#sk-container-id-3 div.sk-label label {font-family: monospace;font-weight: bold;display: inline-block;line-height: 1.2em;}#sk-container-id-3 div.sk-label-container {text-align: center;}#sk-container-id-3 div.sk-container {/* jupyter's `normalize.less` sets `[hidden] { display: none; }` but bootstrap.min.css set `[hidden] { display: none !important; }` so we also need the `!important` here to be able to override the default hidden behavior on the sphinx rendered scikit-learn.org. See: https://github.com/scikit-learn/scikit-learn/issues/21755 */display: inline-block !important;position: relative;}#sk-container-id-3 div.sk-text-repr-fallback {display: none;}</style><div id=\"sk-container-id-3\" class=\"sk-top-container\"><div class=\"sk-text-repr-fallback\"><pre>LogisticRegression(penalty=None)</pre><b>In a Jupyter environment, please rerun this cell to show the HTML representation or trust the notebook. <br />On GitHub, the HTML representation is unable to render, please try loading this page with nbviewer.org.</b></div><div class=\"sk-container\" hidden><div class=\"sk-item\"><div class=\"sk-estimator sk-toggleable\"><input class=\"sk-toggleable__control sk-hidden--visually\" id=\"sk-estimator-id-3\" type=\"checkbox\" checked><label for=\"sk-estimator-id-3\" class=\"sk-toggleable__label sk-toggleable__label-arrow\">LogisticRegression</label><div class=\"sk-toggleable__content\"><pre>LogisticRegression(penalty=None)</pre></div></div></div></div></div>"
      ],
      "text/plain": [
       "LogisticRegression(penalty=None)"
      ]
     },
     "execution_count": 38,
     "metadata": {},
     "output_type": "execute_result"
    }
   ],
   "source": [
    "# Instantiate the logistic regression\n",
    "log_reg = LogisticRegression(penalty=None)\n",
    "\n",
    "# Fit the model\n",
    "log_reg.fit(X_train['total_carb'].values.reshape(-1,1),\n",
    "            y_train)"
   ]
  },
  {
   "cell_type": "code",
   "execution_count": 39,
   "metadata": {},
   "outputs": [
    {
     "data": {
      "text/plain": [
       "array([False, False,  True, False, False, False, False, False, False,\n",
       "       False, False, False, False, False, False, False, False, False,\n",
       "       False, False, False, False, False, False, False, False, False,\n",
       "       False, False, False, False, False, False, False, False, False,\n",
       "        True, False, False,  True, False,  True, False, False, False,\n",
       "       False, False,  True, False, False, False, False, False, False,\n",
       "       False, False, False,  True, False,  True, False, False, False,\n",
       "       False, False, False, False, False, False, False, False,  True,\n",
       "       False, False, False, False,  True, False, False, False, False,\n",
       "       False, False, False, False, False, False, False, False, False,\n",
       "       False, False,  True, False, False, False, False, False,  True,\n",
       "       False, False,  True, False, False, False,  True, False, False,\n",
       "       False, False,  True, False, False,  True, False, False, False,\n",
       "       False, False, False,  True, False,  True, False, False, False,\n",
       "       False, False, False, False, False, False, False, False, False,\n",
       "       False, False, False, False, False, False,  True, False, False,\n",
       "       False, False, False, False, False, False, False, False,  True,\n",
       "       False, False, False, False, False, False,  True, False, False,\n",
       "       False, False, False, False, False, False, False, False, False,\n",
       "       False, False, False, False, False, False, False, False, False,\n",
       "       False, False, False, False])"
      ]
     },
     "execution_count": 39,
     "metadata": {},
     "output_type": "execute_result"
    }
   ],
   "source": [
    "# Make predictions\n",
    "log_reg.predict(X_train['total_carb'].values.reshape(-1,1))"
   ]
  },
  {
   "cell_type": "code",
   "execution_count": 40,
   "metadata": {},
   "outputs": [
    {
     "data": {
      "text/plain": [
       "array([[0.56195865, 0.43804135],\n",
       "       [0.65575018, 0.34424982],\n",
       "       [0.33282454, 0.66717546],\n",
       "       [0.71115677, 0.28884323],\n",
       "       [0.71962839, 0.28037161],\n",
       "       [0.74831429, 0.25168571],\n",
       "       [0.79146114, 0.20853886],\n",
       "       [0.74066326, 0.25933674],\n",
       "       [0.6123417 , 0.3876583 ],\n",
       "       [0.78239224, 0.21760776],\n",
       "       [0.80638426, 0.19361574],\n",
       "       [0.80660072, 0.19339928],\n",
       "       [0.77691201, 0.22308799],\n",
       "       [0.76466188, 0.23533812],\n",
       "       [0.71682141, 0.28317859],\n",
       "       [0.76961714, 0.23038286],\n",
       "       [0.69376666, 0.30623334],\n",
       "       [0.65575018, 0.34424982],\n",
       "       [0.65575018, 0.34424982],\n",
       "       [0.73231923, 0.26768077],\n",
       "       [0.79146114, 0.20853886],\n",
       "       [0.71962839, 0.28037161],\n",
       "       [0.80377238, 0.19622762],\n",
       "       [0.75453182, 0.24546818],\n",
       "       [0.75887274, 0.24112726],\n",
       "       [0.80069164, 0.19930836],\n",
       "       [0.78497864, 0.21502136],\n",
       "       [0.65575018, 0.34424982],\n",
       "       [0.57217367, 0.42782633],\n",
       "       [0.65575018, 0.34424982],\n",
       "       [0.65575018, 0.34424982],\n",
       "       [0.61890577, 0.38109423],\n",
       "       [0.77449883, 0.22550117],\n",
       "       [0.57522662, 0.42477338],\n",
       "       [0.78168298, 0.21831702],\n",
       "       [0.72241832, 0.27758168],\n",
       "       [0.15003753, 0.84996247],\n",
       "       [0.78025945, 0.21974055],\n",
       "       [0.77691201, 0.22308799],\n",
       "       [0.46179526, 0.53820474],\n",
       "       [0.65575018, 0.34424982],\n",
       "       [0.38083646, 0.61916354],\n",
       "       [0.6123417 , 0.3876583 ],\n",
       "       [0.76887853, 0.23112147],\n",
       "       [0.57217367, 0.42782633],\n",
       "       [0.7826283 , 0.2173717 ],\n",
       "       [0.75453182, 0.24546818],\n",
       "       [0.3940024 , 0.6059976 ],\n",
       "       [0.68395706, 0.31604294],\n",
       "       [0.71962839, 0.28037161],\n",
       "       [0.58905874, 0.41094126],\n",
       "       [0.80595079, 0.19404921],\n",
       "       [0.7991377 , 0.2008623 ],\n",
       "       [0.79555183, 0.20444817],\n",
       "       [0.79351398, 0.20648602],\n",
       "       [0.72629537, 0.27370463],\n",
       "       [0.80267627, 0.19732373],\n",
       "       [0.47215206, 0.52784794],\n",
       "       [0.53793307, 0.46206693],\n",
       "       [0.15360958, 0.84639042],\n",
       "       [0.65575018, 0.34424982],\n",
       "       [0.79555183, 0.20444817],\n",
       "       [0.80002677, 0.19997323],\n",
       "       [0.57217367, 0.42782633],\n",
       "       [0.71962839, 0.28037161],\n",
       "       [0.71962839, 0.28037161],\n",
       "       [0.75836477, 0.24163523],\n",
       "       [0.80420954, 0.19579046],\n",
       "       [0.71682141, 0.28317859],\n",
       "       [0.63833084, 0.36166916],\n",
       "       [0.80420954, 0.19579046],\n",
       "       [0.42755879, 0.57244121],\n",
       "       [0.80464596, 0.19535404],\n",
       "       [0.6999197 , 0.3000803 ],\n",
       "       [0.74752979, 0.25247021],\n",
       "       [0.65575018, 0.34424982],\n",
       "       [0.45147134, 0.54852866],\n",
       "       [0.69553186, 0.30446814],\n",
       "       [0.75453182, 0.24546818],\n",
       "       [0.67702119, 0.32297881],\n",
       "       [0.74752979, 0.25247021],\n",
       "       [0.79031419, 0.20968581],\n",
       "       [0.65575018, 0.34424982],\n",
       "       [0.58737895, 0.41262105],\n",
       "       [0.75606991, 0.24393009],\n",
       "       [0.51026449, 0.48973551],\n",
       "       [0.74146171, 0.25853829],\n",
       "       [0.65575018, 0.34424982],\n",
       "       [0.71456363, 0.28543637],\n",
       "       [0.75530168, 0.24469832],\n",
       "       [0.72241832, 0.27758168],\n",
       "       [0.65575018, 0.34424982],\n",
       "       [0.41976957, 0.58023043],\n",
       "       [0.77352838, 0.22647162],\n",
       "       [0.66322528, 0.33677472],\n",
       "       [0.71343069, 0.28656931],\n",
       "       [0.78404072, 0.21595928],\n",
       "       [0.80464596, 0.19535404],\n",
       "       [0.23514149, 0.76485851],\n",
       "       [0.65575018, 0.34424982],\n",
       "       [0.76215674, 0.23784326],\n",
       "       [0.46179526, 0.53820474],\n",
       "       [0.65575018, 0.34424982],\n",
       "       [0.52411729, 0.47588271],\n",
       "       [0.56707329, 0.43292671],\n",
       "       [0.49951662, 0.50048338],\n",
       "       [0.74752979, 0.25247021],\n",
       "       [0.76714869, 0.23285131],\n",
       "       [0.77835107, 0.22164893],\n",
       "       [0.56195865, 0.43804135],\n",
       "       [0.11797909, 0.88202091],\n",
       "       [0.65575018, 0.34424982],\n",
       "       [0.57217367, 0.42782633],\n",
       "       [0.28155183, 0.71844817],\n",
       "       [0.69376666, 0.30623334],\n",
       "       [0.63833084, 0.36166916],\n",
       "       [0.65575018, 0.34424982],\n",
       "       [0.72408405, 0.27591595],\n",
       "       [0.71962839, 0.28037161],\n",
       "       [0.65575018, 0.34424982],\n",
       "       [0.33005846, 0.66994154],\n",
       "       [0.80573378, 0.19426622],\n",
       "       [0.28577936, 0.71422064],\n",
       "       [0.70542538, 0.29457462],\n",
       "       [0.65543701, 0.34456299],\n",
       "       [0.65575018, 0.34424982],\n",
       "       [0.76789115, 0.23210885],\n",
       "       [0.615629  , 0.384371  ],\n",
       "       [0.80113396, 0.19886604],\n",
       "       [0.57217367, 0.42782633],\n",
       "       [0.61955984, 0.38044016],\n",
       "       [0.78614687, 0.21385313],\n",
       "       [0.79100292, 0.20899708],\n",
       "       [0.76714869, 0.23285131],\n",
       "       [0.78823803, 0.21176197],\n",
       "       [0.79936024, 0.20063976],\n",
       "       [0.6996283 , 0.3003717 ],\n",
       "       [0.79555183, 0.20444817],\n",
       "       [0.65575018, 0.34424982],\n",
       "       [0.72519109, 0.27480891],\n",
       "       [0.78025945, 0.21974055],\n",
       "       [0.48045522, 0.51954478],\n",
       "       [0.75709167, 0.24290833],\n",
       "       [0.68784167, 0.31215833],\n",
       "       [0.62217175, 0.37782825],\n",
       "       [0.71962839, 0.28037161],\n",
       "       [0.50125038, 0.49874962],\n",
       "       [0.70571352, 0.29428648],\n",
       "       [0.57217367, 0.42782633],\n",
       "       [0.70542538, 0.29457462],\n",
       "       [0.69553186, 0.30446814],\n",
       "       [0.79146114, 0.20853886],\n",
       "       [0.32456155, 0.67543845],\n",
       "       [0.70224504, 0.29775496],\n",
       "       [0.64851341, 0.35148659],\n",
       "       [0.76739636, 0.23260364],\n",
       "       [0.67459014, 0.32540986],\n",
       "       [0.79555183, 0.20444817],\n",
       "       [0.53793307, 0.46206693],\n",
       "       [0.2429624 , 0.7570376 ],\n",
       "       [0.71962839, 0.28037161],\n",
       "       [0.7859136 , 0.2140864 ],\n",
       "       [0.74437565, 0.25562435],\n",
       "       [0.58232752, 0.41767248],\n",
       "       [0.68813941, 0.31186059],\n",
       "       [0.71962839, 0.28037161],\n",
       "       [0.69933674, 0.30066326],\n",
       "       [0.7279466 , 0.2720534 ],\n",
       "       [0.78661287, 0.21338713],\n",
       "       [0.75453182, 0.24546818],\n",
       "       [0.65575018, 0.34424982],\n",
       "       [0.67974473, 0.32025527],\n",
       "       [0.72519109, 0.27480891],\n",
       "       [0.79555183, 0.20444817],\n",
       "       [0.74146171, 0.25853829],\n",
       "       [0.6123417 , 0.3876583 ],\n",
       "       [0.7991377 , 0.2008623 ],\n",
       "       [0.76590758, 0.23409242],\n",
       "       [0.56332389, 0.43667611],\n",
       "       [0.71682141, 0.28317859],\n",
       "       [0.61595715, 0.38404285],\n",
       "       [0.79869205, 0.20130795],\n",
       "       [0.70253498, 0.29746502],\n",
       "       [0.57217367, 0.42782633]])"
      ]
     },
     "execution_count": 40,
     "metadata": {},
     "output_type": "execute_result"
    }
   ],
   "source": [
    "# Quantify the prediction probabilities\n",
    "log_reg.predict_proba(X_train['total_carb'].values.reshape(-1,1))"
   ]
  },
  {
   "cell_type": "code",
   "execution_count": 41,
   "metadata": {},
   "outputs": [
    {
     "data": {
      "image/png": "[encoded data removed]",
      "text/plain": [
       "<Figure size 700x500 with 1 Axes>"
      ]
     },
     "metadata": {},
     "output_type": "display_data"
    }
   ],
   "source": [
    "# Plot the training data with the logistic regression\n",
    "\n",
    "plt.figure(figsize = (7,5))\n",
    "\n",
    "plt.plot(np.linspace(0,300,1000),\n",
    "            log_reg.predict_proba(np.linspace(0,300,1000).reshape(-1,1))[:,1],\n",
    "            'r--',linewidth=2.5,label = \"Model Fit\")\n",
    "plt.scatter(X_train['total_carb'],y_train,label = 'Training Data',alpha=.7)\n",
    "plt.legend(fontsize = 14,loc = 5)\n",
    "plt.xlabel(\"Total Carbs\",fontsize = 12)\n",
    "plt.ylabel(\"p(X)\",fontsize=12) \n",
    "\n",
    "plt.show()"
   ]
  },
  {
   "cell_type": "code",
   "execution_count": 42,
   "metadata": {},
   "outputs": [
    {
     "name": "stdout",
     "output_type": "stream",
     "text": [
      "The training accuracy for a cutoff of 0.4 is 0.6684782608695652\n"
     ]
    }
   ],
   "source": [
    "# Set the cutoff\n",
    "cutoff = .4\n",
    "\n",
    "# Store the predicted probabilities\n",
    "y_prob = log_reg.predict_proba(X_train['total_carb'].values.reshape(-1,1))[:,1]\n",
    "\n",
    "# Assign the value based on the cutoff\n",
    "y_train_pred = 1*(y_prob >= cutoff)\n",
    "\n",
    "# Print the accuracy\n",
    "print(\"The training accuracy for a cutoff of\",cutoff,\n",
    "      \"is\", np.sum(y_train_pred == y_train)/len(y_train))"
   ]
  },
  {
   "cell_type": "code",
   "execution_count": 43,
   "metadata": {},
   "outputs": [],
   "source": [
    "## Now plot how the accuracy changes with the cutoff\n",
    "cutoffs = np.arange(0,1.01,.01)\n",
    "accs = []\n",
    "\n",
    "for cutoff in cutoffs:\n",
    "    y_train_pred = 1*(y_prob >= cutoff)\n",
    "    accs.append(np.sum(y_train_pred == y_train)/len(y_train))"
   ]
  },
  {
   "cell_type": "code",
   "execution_count": 44,
   "metadata": {},
   "outputs": [
    {
     "data": {
      "image/png": "[encoded data removed]",
      "text/plain": [
       "<Figure size 700x500 with 1 Axes>"
      ]
     },
     "metadata": {},
     "output_type": "display_data"
    }
   ],
   "source": [
    "plt.figure(figsize=(7,5))\n",
    "\n",
    "plt.scatter(cutoffs,accs)\n",
    "\n",
    "plt.xlabel(\"Cutoff\",fontsize=12)\n",
    "plt.ylabel(\"Training Accuracy\",fontsize=12)\n",
    "\n",
    "plt.show()"
   ]
  },
  {
   "cell_type": "code",
   "execution_count": 49,
   "metadata": {},
   "outputs": [],
   "source": [
    "from sklearn.metrics import roc_curve"
   ]
  },
  {
   "cell_type": "code",
   "execution_count": 51,
   "metadata": {},
   "outputs": [],
   "source": [
    "fprs, tprs, cutoffs = roc_curve(y_train, log_reg.predict_proba(X_train['total_carb'].values.reshape(-1,1))[:,1])"
   ]
  },
  {
   "cell_type": "code",
   "execution_count": 52,
   "metadata": {},
   "outputs": [
    {
     "data": {
      "image/png": "[encoded data removed]",
      "text/plain": [
       "<Figure size 700x500 with 1 Axes>"
      ]
     },
     "metadata": {},
     "output_type": "display_data"
    }
   ],
   "source": [
    "plt.figure(figsize=(7,5))\n",
    "\n",
    "plt.plot(fprs, tprs, label=\"ROC Curve\")\n",
    "plt.plot([0,1], [0,1], 'k--', label=\"Random Guess Curve\")\n",
    "\n",
    "\n",
    "plt.xlabel(\"False Positive Rate\", fontsize=12)\n",
    "plt.ylabel(\"True Positive Rate\", fontsize=12)\n",
    "plt.xticks(fontsize=10)\n",
    "plt.yticks(fontsize=10)\n",
    "plt.legend(fontsize=10)\n",
    "\n",
    "plt.show()"
   ]
  },
  {
   "cell_type": "code",
   "execution_count": 26,
   "metadata": {},
   "outputs": [],
   "source": [
    "from sklearn.metrics import confusion_matrix"
   ]
  },
  {
   "cell_type": "code",
   "execution_count": 27,
   "metadata": {},
   "outputs": [
    {
     "data": {
      "text/plain": [
       "array([[103,  20],\n",
       "       [ 41,  20]])"
      ]
     },
     "execution_count": 27,
     "metadata": {},
     "output_type": "execute_result"
    }
   ],
   "source": [
    "# Set the cutoff\n",
    "cutoff = .4\n",
    "\n",
    "# Store the predicted probabilities\n",
    "y_prob = log_reg.predict_proba(X_train['total_carb'].values.reshape(-1,1))[:,1]\n",
    "\n",
    "# Assign the value based on the cutoff\n",
    "y_train_pred = 1*(y_prob >= cutoff)\n",
    "\n",
    "# Confustion matrix\n",
    "confusion_matrix(y_train, y_train_pred)"
   ]
  },
  {
   "cell_type": "code",
   "execution_count": 28,
   "metadata": {},
   "outputs": [
    {
     "name": "stdout",
     "output_type": "stream",
     "text": [
      "The training true positive rate is 0.3279\n",
      "The training false negative rate is 0.6721\n",
      "The training true negative rate is 0.8374\n",
      "The training false positive rate is 0.1626\n"
     ]
    }
   ],
   "source": [
    "TN = confusion_matrix(y_train, y_train_pred)[0,0]\n",
    "FP = confusion_matrix(y_train, y_train_pred)[0,1]\n",
    "FN = confusion_matrix(y_train, y_train_pred)[1,0]\n",
    "TP = confusion_matrix(y_train, y_train_pred)[1,1]\n",
    "\n",
    "## TPR\n",
    "print(\"The training true positive rate is\",\n",
    "         np.round(TP/(TP+FN),4))\n",
    "\n",
    "## FNR\n",
    "print(\"The training false negative rate is\",\n",
    "         np.round(FN/(TP+FN),4))\n",
    "\n",
    "## TNR\n",
    "print(\"The training true negative rate is\",\n",
    "         np.round(TN/(TN+FP),4))\n",
    "\n",
    "## FPR\n",
    "print(\"The training false positive rate is\",\n",
    "         np.round(FP/(FP+TN),4))"
   ]
  },
  {
   "cell_type": "code",
   "execution_count": 29,
   "metadata": {},
   "outputs": [
    {
     "data": {
      "text/plain": [
       "0.013870081860837581"
      ]
     },
     "execution_count": 29,
     "metadata": {},
     "output_type": "execute_result"
    }
   ],
   "source": [
    "## demonstrate log_reg.coef_\n",
    "log_reg.coef_[0][0]"
   ]
  },
  {
   "cell_type": "code",
   "execution_count": 30,
   "metadata": {},
   "outputs": [
    {
     "name": "stdout",
     "output_type": "stream",
     "text": [
      "A .1 unit increase in our feature multiplies the odds of being classified as 1 by 1.0\n"
     ]
    }
   ],
   "source": [
    "print(\"A .1 unit increase in our feature multiplies\" + \n",
    "      \" the odds of being classified as 1 by \" + \n",
    "      str(np.round(np.exp(.1*log_reg.coef_[0][0]),2)))"
   ]
  },
  {
   "cell_type": "markdown",
   "metadata": {},
   "source": [
    "next steps: \n",
    "1. put in data from all but the hold out participants\n",
    "2. use first predictor project code to get baseline model predictions\n",
    "3. predict on testing data"
   ]
  },
  {
   "cell_type": "markdown",
   "metadata": {},
   "source": [
    "# Using more inputs"
   ]
  },
  {
   "cell_type": "code",
   "execution_count": 31,
   "metadata": {},
   "outputs": [
    {
     "data": {
      "text/html": [
       "<style>#sk-container-id-2 {color: black;background-color: white;}#sk-container-id-2 pre{padding: 0;}#sk-container-id-2 div.sk-toggleable {background-color: white;}#sk-container-id-2 label.sk-toggleable__label {cursor: pointer;display: block;width: 100%;margin-bottom: 0;padding: 0.3em;box-sizing: border-box;text-align: center;}#sk-container-id-2 label.sk-toggleable__label-arrow:before {content: \"▸\";float: left;margin-right: 0.25em;color: #696969;}#sk-container-id-2 label.sk-toggleable__label-arrow:hover:before {color: black;}#sk-container-id-2 div.sk-estimator:hover label.sk-toggleable__label-arrow:before {color: black;}#sk-container-id-2 div.sk-toggleable__content {max-height: 0;max-width: 0;overflow: hidden;text-align: left;background-color: #f0f8ff;}#sk-container-id-2 div.sk-toggleable__content pre {margin: 0.2em;color: black;border-radius: 0.25em;background-color: #f0f8ff;}#sk-container-id-2 input.sk-toggleable__control:checked~div.sk-toggleable__content {max-height: 200px;max-width: 100%;overflow: auto;}#sk-container-id-2 input.sk-toggleable__control:checked~label.sk-toggleable__label-arrow:before {content: \"▾\";}#sk-container-id-2 div.sk-estimator input.sk-toggleable__control:checked~label.sk-toggleable__label {background-color: #d4ebff;}#sk-container-id-2 div.sk-label input.sk-toggleable__control:checked~label.sk-toggleable__label {background-color: #d4ebff;}#sk-container-id-2 input.sk-hidden--visually {border: 0;clip: rect(1px 1px 1px 1px);clip: rect(1px, 1px, 1px, 1px);height: 1px;margin: -1px;overflow: hidden;padding: 0;position: absolute;width: 1px;}#sk-container-id-2 div.sk-estimator {font-family: monospace;background-color: #f0f8ff;border: 1px dotted black;border-radius: 0.25em;box-sizing: border-box;margin-bottom: 0.5em;}#sk-container-id-2 div.sk-estimator:hover {background-color: #d4ebff;}#sk-container-id-2 div.sk-parallel-item::after {content: \"\";width: 100%;border-bottom: 1px solid gray;flex-grow: 1;}#sk-container-id-2 div.sk-label:hover label.sk-toggleable__label {background-color: #d4ebff;}#sk-container-id-2 div.sk-serial::before {content: \"\";position: absolute;border-left: 1px solid gray;box-sizing: border-box;top: 0;bottom: 0;left: 50%;z-index: 0;}#sk-container-id-2 div.sk-serial {display: flex;flex-direction: column;align-items: center;background-color: white;padding-right: 0.2em;padding-left: 0.2em;position: relative;}#sk-container-id-2 div.sk-item {position: relative;z-index: 1;}#sk-container-id-2 div.sk-parallel {display: flex;align-items: stretch;justify-content: center;background-color: white;position: relative;}#sk-container-id-2 div.sk-item::before, #sk-container-id-2 div.sk-parallel-item::before {content: \"\";position: absolute;border-left: 1px solid gray;box-sizing: border-box;top: 0;bottom: 0;left: 50%;z-index: -1;}#sk-container-id-2 div.sk-parallel-item {display: flex;flex-direction: column;z-index: 1;position: relative;background-color: white;}#sk-container-id-2 div.sk-parallel-item:first-child::after {align-self: flex-end;width: 50%;}#sk-container-id-2 div.sk-parallel-item:last-child::after {align-self: flex-start;width: 50%;}#sk-container-id-2 div.sk-parallel-item:only-child::after {width: 0;}#sk-container-id-2 div.sk-dashed-wrapped {border: 1px dashed gray;margin: 0 0.4em 0.5em 0.4em;box-sizing: border-box;padding-bottom: 0.4em;background-color: white;}#sk-container-id-2 div.sk-label label {font-family: monospace;font-weight: bold;display: inline-block;line-height: 1.2em;}#sk-container-id-2 div.sk-label-container {text-align: center;}#sk-container-id-2 div.sk-container {/* jupyter's `normalize.less` sets `[hidden] { display: none; }` but bootstrap.min.css set `[hidden] { display: none !important; }` so we also need the `!important` here to be able to override the default hidden behavior on the sphinx rendered scikit-learn.org. See: https://github.com/scikit-learn/scikit-learn/issues/21755 */display: inline-block !important;position: relative;}#sk-container-id-2 div.sk-text-repr-fallback {display: none;}</style><div id=\"sk-container-id-2\" class=\"sk-top-container\"><div class=\"sk-text-repr-fallback\"><pre>LogisticRegression(penalty=None)</pre><b>In a Jupyter environment, please rerun this cell to show the HTML representation or trust the notebook. <br />On GitHub, the HTML representation is unable to render, please try loading this page with nbviewer.org.</b></div><div class=\"sk-container\" hidden><div class=\"sk-item\"><div class=\"sk-estimator sk-toggleable\"><input class=\"sk-toggleable__control sk-hidden--visually\" id=\"sk-estimator-id-2\" type=\"checkbox\" checked><label for=\"sk-estimator-id-2\" class=\"sk-toggleable__label sk-toggleable__label-arrow\">LogisticRegression</label><div class=\"sk-toggleable__content\"><pre>LogisticRegression(penalty=None)</pre></div></div></div></div></div>"
      ],
      "text/plain": [
       "LogisticRegression(penalty=None)"
      ]
     },
     "execution_count": 31,
     "metadata": {},
     "output_type": "execute_result"
    }
   ],
   "source": [
    "# Instantiate the logistic regression\n",
    "log_reg = LogisticRegression(penalty=None)\n",
    "\n",
    "# Fit the model\n",
    "log_reg.fit(X_train[['total_carb','gi']].values,\n",
    "            y_train)"
   ]
  },
  {
   "cell_type": "code",
   "execution_count": 32,
   "metadata": {},
   "outputs": [
    {
     "name": "stdout",
     "output_type": "stream",
     "text": [
      "The training accuracy for a cutoff of 0.4 is 0.6521739130434783\n"
     ]
    }
   ],
   "source": [
    "# Set the cutoff\n",
    "cutoff = .4\n",
    "\n",
    "# Store the predicted probabilities\n",
    "y_prob = log_reg.predict_proba(X_train[['total_carb','gi']].values)[:,1]\n",
    "\n",
    "# Assign the value based on the cutoff\n",
    "y_train_pred = 1*(y_prob >= cutoff)\n",
    "\n",
    "# Print the accuracy\n",
    "print(\"The training accuracy for a cutoff of\",cutoff,\n",
    "      \"is\", np.sum(y_train_pred == y_train)/len(y_train))"
   ]
  },
  {
   "cell_type": "code",
   "execution_count": 33,
   "metadata": {},
   "outputs": [],
   "source": [
    "## Now plot how the accuracy changes with the cutoff\n",
    "cutoffs = np.arange(0,1.01,.01)\n",
    "accs = []\n",
    "\n",
    "for cutoff in cutoffs:\n",
    "    y_train_pred = 1*(y_prob >= cutoff)\n",
    "    accs.append(np.sum(y_train_pred == y_train)/len(y_train))"
   ]
  },
  {
   "cell_type": "code",
   "execution_count": 34,
   "metadata": {},
   "outputs": [
    {
     "data": {
      "image/png": "[encoded data removed]",
      "text/plain": [
       "<Figure size 700x500 with 1 Axes>"
      ]
     },
     "metadata": {},
     "output_type": "display_data"
    }
   ],
   "source": [
    "plt.figure(figsize=(7,5))\n",
    "\n",
    "plt.scatter(cutoffs,accs)\n",
    "\n",
    "plt.xlabel(\"Cutoff\",fontsize=12)\n",
    "plt.ylabel(\"Training Accuracy\",fontsize=12)\n",
    "\n",
    "plt.show()"
   ]
  },
  {
   "cell_type": "code",
   "execution_count": 35,
   "metadata": {},
   "outputs": [
    {
     "data": {
      "text/plain": [
       "array([[89, 34],\n",
       "       [20, 41]])"
      ]
     },
     "execution_count": 35,
     "metadata": {},
     "output_type": "execute_result"
    }
   ],
   "source": [
    "# Set the cutoff\n",
    "cutoff = .35\n",
    "\n",
    "# Store the predicted probabilities\n",
    "y_prob = log_reg.predict_proba(X_train[['total_carb','gi']].values)[:,1]\n",
    "\n",
    "# Assign the value based on the cutoff\n",
    "y_train_pred = 1*(y_prob >= cutoff)\n",
    "\n",
    "# Confustion matrix\n",
    "confusion_matrix(y_train, y_train_pred)"
   ]
  },
  {
   "cell_type": "code",
   "execution_count": 36,
   "metadata": {},
   "outputs": [
    {
     "name": "stdout",
     "output_type": "stream",
     "text": [
      "The training true positive rate is 0.6721\n",
      "The training false negative rate is 0.3279\n",
      "The training true negative rate is 0.7236\n",
      "The training false positive rate is 0.2764\n"
     ]
    }
   ],
   "source": [
    "TN = confusion_matrix(y_train, y_train_pred)[0,0]\n",
    "FP = confusion_matrix(y_train, y_train_pred)[0,1]\n",
    "FN = confusion_matrix(y_train, y_train_pred)[1,0]\n",
    "TP = confusion_matrix(y_train, y_train_pred)[1,1]\n",
    "\n",
    "## TPR\n",
    "print(\"The training true positive rate is\",\n",
    "         np.round(TP/(TP+FN),4))\n",
    "\n",
    "## FNR\n",
    "print(\"The training false negative rate is\",\n",
    "         np.round(FN/(TP+FN),4))\n",
    "\n",
    "## TNR\n",
    "print(\"The training true negative rate is\",\n",
    "         np.round(TN/(TN+FP),4))\n",
    "\n",
    "## FPR\n",
    "print(\"The training false positive rate is\",\n",
    "         np.round(FP/(FP+TN),4))"
   ]
  },
  {
   "cell_type": "code",
   "execution_count": null,
   "metadata": {},
   "outputs": [],
   "source": []
  }
 ],
 "metadata": {
  "kernelspec": {
   "display_name": "erdos_may_2024",
   "language": "python",
   "name": "python3"
  },
  "language_info": {
   "codemirror_mode": {
    "name": "ipython",
    "version": 3
   },
   "file_extension": ".py",
   "mimetype": "text/x-python",
   "name": "python",
   "nbconvert_exporter": "python",
   "pygments_lexer": "ipython3",
   "version": "3.11.7"
  }
 },
 "nbformat": 4,
 "nbformat_minor": 2
}

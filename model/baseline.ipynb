{
 "cells": [
  {
   "cell_type": "code",
   "execution_count": 1,
   "metadata": {},
   "outputs": [],
   "source": [
    "import pandas as pd\n",
    "import numpy as np\n",
    "import matplotlib.pyplot as plt"
   ]
  },
  {
   "cell_type": "code",
   "execution_count": 2,
   "metadata": {},
   "outputs": [],
   "source": [
    "# need this cell to import the help functions:\n",
    "\n",
    "import os\n",
    "path_sections = os.getcwd().split('\\\\')\n",
    "if path_sections[-1] != 'CGM':\n",
    "    os.chdir('./..')"
   ]
  },
  {
   "cell_type": "code",
   "execution_count": 3,
   "metadata": {},
   "outputs": [],
   "source": [
    "# import help functions:\n",
    "\n",
    "from data_processing.cgm_data import CGMData\n",
    "from data_processing.cgm_data_helper import plot_series_with_food\n",
    "from data_processing.derived_datasets import max_glucose_dataset,max_glucose_between_meals_dataset\n",
    "\n",
    "from sklearn.linear_model import LinearRegression,LogisticRegression\n",
    "from sklearn.model_selection import train_test_split\n",
    "from sklearn.model_selection import KFold\n",
    "from sklearn.metrics import mean_squared_error\n",
    "from sklearn.neighbors import KNeighborsRegressor"
   ]
  },
  {
   "cell_type": "code",
   "execution_count": 4,
   "metadata": {},
   "outputs": [],
   "source": [
    "data = CGMData()"
   ]
  },
  {
   "cell_type": "code",
   "execution_count": 68,
   "metadata": {},
   "outputs": [],
   "source": [
    "# participant_numbers = data.shape()\n",
    "participant_numbers = 13"
   ]
  },
  {
   "cell_type": "code",
   "execution_count": 69,
   "metadata": {},
   "outputs": [],
   "source": [
    "# Finding 5/95th percentile idea from Dan Visscher\n",
    "high_glu = []\n",
    "low_glu = []\n",
    "\n",
    "# Find 5th/95th percentile for glucose range for each patient\n",
    "for i in range(1,participant_numbers+1):\n",
    "    low_glu.append(np.percentile(data[i].glu, 5))\n",
    "    high_glu.append(np.percentile(data[i].glu, 95))\n"
   ]
  },
  {
   "cell_type": "code",
   "execution_count": 70,
   "metadata": {},
   "outputs": [
    {
     "name": "stdout",
     "output_type": "stream",
     "text": [
      "[137.0, 167.0, 140.0, 145.0, 129.0, 188.0, 128.0, 143.8499999999999, 177.0, 178.0, 166.0, 164.6500000000001, 168.0]\n",
      "[85.0, 99.0, 85.0, 85.0, 83.0, 93.0, 70.0, 83.0, 97.2, 81.0, 87.0, 99.0, 97.85000000000001]\n"
     ]
    }
   ],
   "source": [
    "print(high_glu)\n",
    "print(low_glu)"
   ]
  },
  {
   "cell_type": "code",
   "execution_count": 71,
   "metadata": {},
   "outputs": [
    {
     "name": "stdout",
     "output_type": "stream",
     "text": [
      "<class 'pandas.core.frame.DataFrame'>\n",
      "Index: 263 entries, 0 to 6\n",
      "Data columns (total 18 columns):\n",
      " #   Column         Non-Null Count  Dtype  \n",
      "---  ------         --------------  -----  \n",
      " 0   calorie        263 non-null    float64\n",
      " 1   total_carb     263 non-null    float64\n",
      " 2   dietary_fiber  263 non-null    float64\n",
      " 3   sugar          263 non-null    float64\n",
      " 4   protein        263 non-null    float64\n",
      " 5   total_fat      263 non-null    float64\n",
      " 6   gi             263 non-null    float64\n",
      " 7   gl             263 non-null    float64\n",
      " 8   recent_meals   263 non-null    float64\n",
      " 9   participant    263 non-null    int64  \n",
      " 10  max_glucose    232 non-null    float64\n",
      " 11  start_glucose  232 non-null    float64\n",
      " 12  diff_glucose   232 non-null    float64\n",
      " 13  mean_temp      196 non-null    float64\n",
      " 14  mean_hr        197 non-null    float64\n",
      " 15  mean_acc       196 non-null    float64\n",
      " 16  mean_eda       196 non-null    float64\n",
      " 17  high_glucose   263 non-null    bool   \n",
      "dtypes: bool(1), float64(16), int64(1)\n",
      "memory usage: 37.2 KB\n"
     ]
    }
   ],
   "source": [
    "df = pd.DataFrame()\n",
    "\n",
    "for pn in range(1,participant_numbers+1):\n",
    "    # Select participant number\n",
    "    participant_number = pn\n",
    "    high_glu_par = high_glu[participant_number-1]\n",
    "\n",
    "    # Max glucose between meals:\n",
    "    df_sub = max_glucose_dataset(cgm_data=data,participant_num=participant_number,glu_thresh=high_glu_par)\n",
    "    df = pd.concat([df, pd.DataFrame(df_sub)])\n",
    "\n",
    "df.info()\n"
   ]
  },
  {
   "cell_type": "code",
   "execution_count": 72,
   "metadata": {},
   "outputs": [
    {
     "data": {
      "text/plain": [
       "31"
      ]
     },
     "execution_count": 72,
     "metadata": {},
     "output_type": "execute_result"
    }
   ],
   "source": [
    "df['max_glucose'].isna().sum()"
   ]
  },
  {
   "cell_type": "code",
   "execution_count": 73,
   "metadata": {},
   "outputs": [],
   "source": [
    "df = df.dropna(subset=['max_glucose'])"
   ]
  },
  {
   "cell_type": "code",
   "execution_count": 74,
   "metadata": {},
   "outputs": [
    {
     "data": {
      "text/plain": [
       "0"
      ]
     },
     "execution_count": 74,
     "metadata": {},
     "output_type": "execute_result"
    }
   ],
   "source": [
    "df['max_glucose'].isna().sum()"
   ]
  },
  {
   "cell_type": "code",
   "execution_count": 78,
   "metadata": {},
   "outputs": [],
   "source": [
    "# Define variables to fit for Logistic Regression\n",
    "\n",
    "X = df.total_carb.values\n",
    "y = df.high_glucose.values"
   ]
  },
  {
   "cell_type": "code",
   "execution_count": 79,
   "metadata": {},
   "outputs": [],
   "source": [
    "# Split testing and training data\n",
    "\n",
    "X_train, X_test, y_train, y_test = train_test_split(X, y,\n",
    "                                                       shuffle=True,\n",
    "                                                       random_state=435,\n",
    "                                                       test_size=.2,\n",
    "                                                       stratify=y)"
   ]
  },
  {
   "cell_type": "code",
   "execution_count": 80,
   "metadata": {},
   "outputs": [
    {
     "data": {
      "image/png": "[encoded data removed]",
      "text/plain": [
       "<Figure size 700x500 with 1 Axes>"
      ]
     },
     "metadata": {},
     "output_type": "display_data"
    }
   ],
   "source": [
    "# Plot the training data\n",
    "\n",
    "plt.figure(figsize = (7,5))\n",
    "\n",
    "plt.scatter(X_train,y_train)\n",
    "plt.ylim((-.1,1.1))\n",
    "plt.xlabel(\"Total Carbs\",fontsize = 12)\n",
    "plt.ylabel(\"High Glucose\",fontsize = 12)\n",
    "\n",
    "plt.show()"
   ]
  },
  {
   "cell_type": "code",
   "execution_count": 81,
   "metadata": {},
   "outputs": [
    {
     "data": {
      "text/html": [
       "<style>#sk-container-id-1 {color: black;background-color: white;}#sk-container-id-1 pre{padding: 0;}#sk-container-id-1 div.sk-toggleable {background-color: white;}#sk-container-id-1 label.sk-toggleable__label {cursor: pointer;display: block;width: 100%;margin-bottom: 0;padding: 0.3em;box-sizing: border-box;text-align: center;}#sk-container-id-1 label.sk-toggleable__label-arrow:before {content: \"▸\";float: left;margin-right: 0.25em;color: #696969;}#sk-container-id-1 label.sk-toggleable__label-arrow:hover:before {color: black;}#sk-container-id-1 div.sk-estimator:hover label.sk-toggleable__label-arrow:before {color: black;}#sk-container-id-1 div.sk-toggleable__content {max-height: 0;max-width: 0;overflow: hidden;text-align: left;background-color: #f0f8ff;}#sk-container-id-1 div.sk-toggleable__content pre {margin: 0.2em;color: black;border-radius: 0.25em;background-color: #f0f8ff;}#sk-container-id-1 input.sk-toggleable__control:checked~div.sk-toggleable__content {max-height: 200px;max-width: 100%;overflow: auto;}#sk-container-id-1 input.sk-toggleable__control:checked~label.sk-toggleable__label-arrow:before {content: \"▾\";}#sk-container-id-1 div.sk-estimator input.sk-toggleable__control:checked~label.sk-toggleable__label {background-color: #d4ebff;}#sk-container-id-1 div.sk-label input.sk-toggleable__control:checked~label.sk-toggleable__label {background-color: #d4ebff;}#sk-container-id-1 input.sk-hidden--visually {border: 0;clip: rect(1px 1px 1px 1px);clip: rect(1px, 1px, 1px, 1px);height: 1px;margin: -1px;overflow: hidden;padding: 0;position: absolute;width: 1px;}#sk-container-id-1 div.sk-estimator {font-family: monospace;background-color: #f0f8ff;border: 1px dotted black;border-radius: 0.25em;box-sizing: border-box;margin-bottom: 0.5em;}#sk-container-id-1 div.sk-estimator:hover {background-color: #d4ebff;}#sk-container-id-1 div.sk-parallel-item::after {content: \"\";width: 100%;border-bottom: 1px solid gray;flex-grow: 1;}#sk-container-id-1 div.sk-label:hover label.sk-toggleable__label {background-color: #d4ebff;}#sk-container-id-1 div.sk-serial::before {content: \"\";position: absolute;border-left: 1px solid gray;box-sizing: border-box;top: 0;bottom: 0;left: 50%;z-index: 0;}#sk-container-id-1 div.sk-serial {display: flex;flex-direction: column;align-items: center;background-color: white;padding-right: 0.2em;padding-left: 0.2em;position: relative;}#sk-container-id-1 div.sk-item {position: relative;z-index: 1;}#sk-container-id-1 div.sk-parallel {display: flex;align-items: stretch;justify-content: center;background-color: white;position: relative;}#sk-container-id-1 div.sk-item::before, #sk-container-id-1 div.sk-parallel-item::before {content: \"\";position: absolute;border-left: 1px solid gray;box-sizing: border-box;top: 0;bottom: 0;left: 50%;z-index: -1;}#sk-container-id-1 div.sk-parallel-item {display: flex;flex-direction: column;z-index: 1;position: relative;background-color: white;}#sk-container-id-1 div.sk-parallel-item:first-child::after {align-self: flex-end;width: 50%;}#sk-container-id-1 div.sk-parallel-item:last-child::after {align-self: flex-start;width: 50%;}#sk-container-id-1 div.sk-parallel-item:only-child::after {width: 0;}#sk-container-id-1 div.sk-dashed-wrapped {border: 1px dashed gray;margin: 0 0.4em 0.5em 0.4em;box-sizing: border-box;padding-bottom: 0.4em;background-color: white;}#sk-container-id-1 div.sk-label label {font-family: monospace;font-weight: bold;display: inline-block;line-height: 1.2em;}#sk-container-id-1 div.sk-label-container {text-align: center;}#sk-container-id-1 div.sk-container {/* jupyter's `normalize.less` sets `[hidden] { display: none; }` but bootstrap.min.css set `[hidden] { display: none !important; }` so we also need the `!important` here to be able to override the default hidden behavior on the sphinx rendered scikit-learn.org. See: https://github.com/scikit-learn/scikit-learn/issues/21755 */display: inline-block !important;position: relative;}#sk-container-id-1 div.sk-text-repr-fallback {display: none;}</style><div id=\"sk-container-id-1\" class=\"sk-top-container\"><div class=\"sk-text-repr-fallback\"><pre>LogisticRegression(penalty=None)</pre><b>In a Jupyter environment, please rerun this cell to show the HTML representation or trust the notebook. <br />On GitHub, the HTML representation is unable to render, please try loading this page with nbviewer.org.</b></div><div class=\"sk-container\" hidden><div class=\"sk-item\"><div class=\"sk-estimator sk-toggleable\"><input class=\"sk-toggleable__control sk-hidden--visually\" id=\"sk-estimator-id-1\" type=\"checkbox\" checked><label for=\"sk-estimator-id-1\" class=\"sk-toggleable__label sk-toggleable__label-arrow\">LogisticRegression</label><div class=\"sk-toggleable__content\"><pre>LogisticRegression(penalty=None)</pre></div></div></div></div></div>"
      ],
      "text/plain": [
       "LogisticRegression(penalty=None)"
      ]
     },
     "execution_count": 81,
     "metadata": {},
     "output_type": "execute_result"
    }
   ],
   "source": [
    "# Instantiate the logistic regression\n",
    "log_reg = LogisticRegression(penalty=None)\n",
    "\n",
    "# Fit the model\n",
    "log_reg.fit(X_train.reshape(-1,1),\n",
    "            y_train)"
   ]
  },
  {
   "cell_type": "code",
   "execution_count": 82,
   "metadata": {},
   "outputs": [
    {
     "data": {
      "text/plain": [
       "array([False, False, False, False, False, False,  True, False, False,\n",
       "       False,  True, False, False, False, False, False, False, False,\n",
       "       False,  True, False, False, False, False, False, False, False,\n",
       "       False, False, False, False, False, False, False, False, False,\n",
       "       False, False, False, False, False, False, False, False, False,\n",
       "       False, False, False, False, False, False, False, False, False,\n",
       "       False, False, False, False, False, False, False, False, False,\n",
       "       False, False, False,  True, False, False, False, False,  True,\n",
       "       False, False, False, False, False, False, False, False, False,\n",
       "       False, False, False,  True,  True, False, False, False, False,\n",
       "       False, False, False, False, False, False, False, False, False,\n",
       "       False, False,  True, False, False, False, False, False, False,\n",
       "       False, False, False, False, False, False, False, False, False,\n",
       "       False, False, False, False, False, False, False, False, False,\n",
       "       False, False, False, False, False, False, False, False, False,\n",
       "       False, False, False, False, False, False, False, False, False,\n",
       "       False, False, False, False, False, False, False, False, False,\n",
       "        True, False, False, False, False, False, False, False, False,\n",
       "       False, False, False, False, False, False, False,  True, False,\n",
       "       False, False, False, False, False, False,  True, False, False,\n",
       "       False,  True, False, False, False])"
      ]
     },
     "execution_count": 82,
     "metadata": {},
     "output_type": "execute_result"
    }
   ],
   "source": [
    "# Make predictions\n",
    "log_reg.predict(X_train.reshape(-1,1))"
   ]
  },
  {
   "cell_type": "code",
   "execution_count": 83,
   "metadata": {},
   "outputs": [
    {
     "data": {
      "text/plain": [
       "array([[0.66366788, 0.33633212],\n",
       "       [0.60511066, 0.39488934],\n",
       "       [0.75862642, 0.24137358],\n",
       "       [0.70509554, 0.29490446],\n",
       "       [0.70703928, 0.29296072],\n",
       "       [0.75135036, 0.24864964],\n",
       "       [0.44397259, 0.55602741],\n",
       "       [0.73160938, 0.26839062],\n",
       "       [0.73890143, 0.26109857],\n",
       "       [0.58593755, 0.41406245],\n",
       "       [0.43773921, 0.56226079],\n",
       "       [0.75862642, 0.24137358],\n",
       "       [0.76558792, 0.23441208],\n",
       "       [0.71090415, 0.28909585],\n",
       "       [0.76959777, 0.23040223],\n",
       "       [0.66866665, 0.33133335],\n",
       "       [0.60846263, 0.39153737],\n",
       "       [0.65207457, 0.34792543],\n",
       "       [0.72175113, 0.27824887],\n",
       "       [0.48846011, 0.51153989],\n",
       "       [0.66366788, 0.33633212],\n",
       "       [0.73709048, 0.26290952],\n",
       "       [0.54221078, 0.45778922],\n",
       "       [0.63705625, 0.36294375],\n",
       "       [0.60846263, 0.39153737],\n",
       "       [0.685456  , 0.314544  ],\n",
       "       [0.71167349, 0.28832651],\n",
       "       [0.74889264, 0.25110736],\n",
       "       [0.61845619, 0.38154381],\n",
       "       [0.66366788, 0.33633212],\n",
       "       [0.61956059, 0.38043941],\n",
       "       [0.75828326, 0.24171674],\n",
       "       [0.7347242 , 0.2652758 ],\n",
       "       [0.66366788, 0.33633212],\n",
       "       [0.66366788, 0.33633212],\n",
       "       [0.7640718 , 0.2359282 ],\n",
       "       [0.70703928, 0.29296072],\n",
       "       [0.7128252 , 0.2871748 ],\n",
       "       [0.76943166, 0.23056834],\n",
       "       [0.76169994, 0.23830006],\n",
       "       [0.70703928, 0.29296072],\n",
       "       [0.77009561, 0.22990439],\n",
       "       [0.7644093 , 0.2355907 ],\n",
       "       [0.75029902, 0.24970098],\n",
       "       [0.70509554, 0.29490446],\n",
       "       [0.68525403, 0.31474597],\n",
       "       [0.7644093 , 0.2355907 ],\n",
       "       [0.76992975, 0.23007025],\n",
       "       [0.66366788, 0.33633212],\n",
       "       [0.66366788, 0.33633212],\n",
       "       [0.53522866, 0.46477134],\n",
       "       [0.73160938, 0.26839062],\n",
       "       [0.66366788, 0.33633212],\n",
       "       [0.64137607, 0.35862393],\n",
       "       [0.66366788, 0.33633212],\n",
       "       [0.73160938, 0.26839062],\n",
       "       [0.76016655, 0.23983345],\n",
       "       [0.52823271, 0.47176729],\n",
       "       [0.76169994, 0.23830006],\n",
       "       [0.70703928, 0.29296072],\n",
       "       [0.72437672, 0.27562328],\n",
       "       [0.67793692, 0.32206308],\n",
       "       [0.75621729, 0.24378271],\n",
       "       [0.53522866, 0.46477134],\n",
       "       [0.60174879, 0.39825121],\n",
       "       [0.69744387, 0.30255613],\n",
       "       [0.28362433, 0.71637567],\n",
       "       [0.72661497, 0.27338503],\n",
       "       [0.70275318, 0.29724682],\n",
       "       [0.70353516, 0.29646484],\n",
       "       [0.74783441, 0.25216559],\n",
       "       [0.24715004, 0.75284996],\n",
       "       [0.73980387, 0.26019613],\n",
       "       [0.61513567, 0.38486433],\n",
       "       [0.76826651, 0.23173349],\n",
       "       [0.69347664, 0.30652336],\n",
       "       [0.70703928, 0.29296072],\n",
       "       [0.66366788, 0.33633212],\n",
       "       [0.66366788, 0.33633212],\n",
       "       [0.75465999, 0.24534001],\n",
       "       [0.76169994, 0.23830006],\n",
       "       [0.65207457, 0.34792543],\n",
       "       [0.68262209, 0.31737791],\n",
       "       [0.76859983, 0.23140017],\n",
       "       [0.28744563, 0.71255437],\n",
       "       [0.44189274, 0.55810726],\n",
       "       [0.60264624, 0.39735376],\n",
       "       [0.73271137, 0.26728863],\n",
       "       [0.56765007, 0.43234993],\n",
       "       [0.60846263, 0.39153737],\n",
       "       [0.76508329, 0.23491671],\n",
       "       [0.60846263, 0.39153737],\n",
       "       [0.70703928, 0.29296072],\n",
       "       [0.7089755 , 0.2910245 ],\n",
       "       [0.7089755 , 0.2910245 ],\n",
       "       [0.50648689, 0.49351311],\n",
       "       [0.74535372, 0.25464628],\n",
       "       [0.76457792, 0.23542208],\n",
       "       [0.68928   , 0.31072   ],\n",
       "       [0.63488796, 0.36511204],\n",
       "       [0.67629881, 0.32370119],\n",
       "       [0.36541869, 0.63458131],\n",
       "       [0.63488796, 0.36511204],\n",
       "       [0.72661497, 0.27338503],\n",
       "       [0.56166417, 0.43833583],\n",
       "       [0.66366788, 0.33633212],\n",
       "       [0.63488796, 0.36511204],\n",
       "       [0.57682012, 0.42317988],\n",
       "       [0.76169994, 0.23830006],\n",
       "       [0.56051092, 0.43948908],\n",
       "       [0.66345879, 0.33654121],\n",
       "       [0.76592391, 0.23407609],\n",
       "       [0.60846263, 0.39153737],\n",
       "       [0.76793286, 0.23206714],\n",
       "       [0.66366788, 0.33633212],\n",
       "       [0.66366788, 0.33633212],\n",
       "       [0.74070429, 0.25929571],\n",
       "       [0.66366788, 0.33633212],\n",
       "       [0.75187491, 0.24812509],\n",
       "       [0.6972462 , 0.3027538 ],\n",
       "       [0.70703928, 0.29296072],\n",
       "       [0.70118566, 0.29881434],\n",
       "       [0.70703928, 0.29296072],\n",
       "       [0.63727277, 0.36272723],\n",
       "       [0.70703928, 0.29296072],\n",
       "       [0.65884275, 0.34115725],\n",
       "       [0.71588296, 0.28411704],\n",
       "       [0.74124357, 0.25875643],\n",
       "       [0.66366788, 0.33633212],\n",
       "       [0.60174879, 0.39825121],\n",
       "       [0.60846263, 0.39153737],\n",
       "       [0.63965085, 0.36034915],\n",
       "       [0.66366788, 0.33633212],\n",
       "       [0.70509554, 0.29490446],\n",
       "       [0.74070429, 0.25929571],\n",
       "       [0.68928   , 0.31072   ],\n",
       "       [0.74249904, 0.25750096],\n",
       "       [0.69327752, 0.30672248],\n",
       "       [0.76169994, 0.23830006],\n",
       "       [0.66366788, 0.33633212],\n",
       "       [0.71090415, 0.28909585],\n",
       "       [0.75029902, 0.24970098],\n",
       "       [0.54778469, 0.45221531],\n",
       "       [0.70118566, 0.29881434],\n",
       "       [0.72231505, 0.27768495],\n",
       "       [0.75448654, 0.24551346],\n",
       "       [0.66366788, 0.33633212],\n",
       "       [0.6972462 , 0.3027538 ],\n",
       "       [0.76826651, 0.23173349],\n",
       "       [0.60846263, 0.39153737],\n",
       "       [0.74783441, 0.25216559],\n",
       "       [0.69048226, 0.30951774],\n",
       "       [0.76859983, 0.23140017],\n",
       "       [0.04198624, 0.95801376],\n",
       "       [0.75379192, 0.24620808],\n",
       "       [0.73216073, 0.26783927],\n",
       "       [0.72605647, 0.27394353],\n",
       "       [0.69048226, 0.30951774],\n",
       "       [0.75500664, 0.24499336],\n",
       "       [0.7101336 , 0.2898664 ],\n",
       "       [0.74606412, 0.25393588],\n",
       "       [0.66366788, 0.33633212],\n",
       "       [0.76709726, 0.23290274],\n",
       "       [0.58593755, 0.41406245],\n",
       "       [0.61046892, 0.38953108],\n",
       "       [0.74196147, 0.25803853],\n",
       "       [0.69506702, 0.30493298],\n",
       "       [0.69307833, 0.30692167],\n",
       "       [0.72661497, 0.27338503],\n",
       "       [0.40758179, 0.59241821],\n",
       "       [0.75309598, 0.24690402],\n",
       "       [0.72717276, 0.27282724],\n",
       "       [0.67977458, 0.32022542],\n",
       "       [0.73435895, 0.26564105],\n",
       "       [0.72231505, 0.27768495],\n",
       "       [0.51187037, 0.48812963],\n",
       "       [0.63921898, 0.36078102],\n",
       "       [0.37217726, 0.62782274],\n",
       "       [0.7520496 , 0.2479504 ],\n",
       "       [0.74088413, 0.25911587],\n",
       "       [0.73344443, 0.26655557],\n",
       "       [0.40419406, 0.59580594],\n",
       "       [0.75776789, 0.24223211],\n",
       "       [0.73160938, 0.26839062],\n",
       "       [0.69526549, 0.30473451]])"
      ]
     },
     "execution_count": 83,
     "metadata": {},
     "output_type": "execute_result"
    }
   ],
   "source": [
    "# Quantify the prediction probabilities\n",
    "log_reg.predict_proba(X_train.reshape(-1,1))"
   ]
  },
  {
   "cell_type": "code",
   "execution_count": 86,
   "metadata": {},
   "outputs": [
    {
     "data": {
      "image/png": "[encoded data removed]",
      "text/plain": [
       "<Figure size 700x500 with 1 Axes>"
      ]
     },
     "metadata": {},
     "output_type": "display_data"
    }
   ],
   "source": [
    "# Plot the training data with the logistic regression\n",
    "\n",
    "plt.figure(figsize = (7,5))\n",
    "\n",
    "plt.plot(np.linspace(0,300,1000),\n",
    "            log_reg.predict_proba(np.linspace(0,300,1000).reshape(-1,1))[:,1],\n",
    "            'r--',linewidth=2.5,label = \"Model Fit\")\n",
    "plt.scatter(X_train,y_train,label = 'Training Data',alpha=.7)\n",
    "plt.legend(fontsize = 14,loc = 4)\n",
    "plt.xlabel(\"Total Carbs\",fontsize = 12)\n",
    "plt.ylabel(\"p(X)\",fontsize=12) \n",
    "\n",
    "plt.show()"
   ]
  },
  {
   "cell_type": "code",
   "execution_count": 87,
   "metadata": {},
   "outputs": [
    {
     "name": "stdout",
     "output_type": "stream",
     "text": [
      "The training accuracy for a cutoff of 0.4 is 0.6864864864864865\n"
     ]
    }
   ],
   "source": [
    "# Set the cutoff\n",
    "cutoff = .4\n",
    "\n",
    "# Store the predicted probabilities\n",
    "y_prob = log_reg.predict_proba(X_train.reshape(-1,1))[:,1]\n",
    "\n",
    "# Assign the value based on the cutoff\n",
    "y_train_pred = 1*(y_prob >= cutoff)\n",
    "\n",
    "# Print the accuracy\n",
    "print(\"The training accuracy for a cutoff of\",cutoff,\n",
    "      \"is\", np.sum(y_train_pred == y_train)/len(y_train))"
   ]
  },
  {
   "cell_type": "code",
   "execution_count": 88,
   "metadata": {},
   "outputs": [],
   "source": [
    "## Now plot how the accuracy changes with the cutoff\n",
    "cutoffs = np.arange(0,1.01,.01)\n",
    "accs = []\n",
    "\n",
    "for cutoff in cutoffs:\n",
    "    y_train_pred = 1*(y_prob >= cutoff)\n",
    "    accs.append(np.sum(y_train_pred == y_train)/len(y_train))"
   ]
  },
  {
   "cell_type": "code",
   "execution_count": 89,
   "metadata": {},
   "outputs": [
    {
     "data": {
      "image/png": "[encoded data removed]",
      "text/plain": [
       "<Figure size 700x500 with 1 Axes>"
      ]
     },
     "metadata": {},
     "output_type": "display_data"
    }
   ],
   "source": [
    "plt.figure(figsize=(7,5))\n",
    "\n",
    "plt.scatter(cutoffs,accs)\n",
    "\n",
    "plt.xlabel(\"Cutoff\",fontsize=12)\n",
    "plt.ylabel(\"Training Accuracy\",fontsize=12)\n",
    "\n",
    "plt.show()"
   ]
  },
  {
   "cell_type": "code",
   "execution_count": 90,
   "metadata": {},
   "outputs": [
    {
     "data": {
      "text/plain": [
       "0.009365812563482144"
      ]
     },
     "execution_count": 90,
     "metadata": {},
     "output_type": "execute_result"
    }
   ],
   "source": [
    "## demonstrate log_reg.coef_\n",
    "log_reg.coef_[0][0]"
   ]
  },
  {
   "cell_type": "code",
   "execution_count": 91,
   "metadata": {},
   "outputs": [
    {
     "name": "stdout",
     "output_type": "stream",
     "text": [
      "A .1 unit increase in our feature multiplies the odds of being classified as 1 by 1.0\n"
     ]
    }
   ],
   "source": [
    "print(\"A .1 unit increase in our feature multiplies\" + \n",
    "      \" the odds of being classified as 1 by \" + \n",
    "      str(np.round(np.exp(.1*log_reg.coef_[0][0]),2)))"
   ]
  },
  {
   "cell_type": "markdown",
   "metadata": {},
   "source": [
    "next steps: \n",
    "1. put in data from all but the hold out participants\n",
    "2. use first predictor project code to get baseline model predictions\n",
    "3. predict on testing data"
   ]
  }
 ],
 "metadata": {
  "kernelspec": {
   "display_name": "erdos_may_2024",
   "language": "python",
   "name": "python3"
  },
  "language_info": {
   "codemirror_mode": {
    "name": "ipython",
    "version": 3
   },
   "file_extension": ".py",
   "mimetype": "text/x-python",
   "name": "python",
   "nbconvert_exporter": "python",
   "pygments_lexer": "ipython3",
   "version": "3.11.7"
  }
 },
 "nbformat": 4,
 "nbformat_minor": 2
}

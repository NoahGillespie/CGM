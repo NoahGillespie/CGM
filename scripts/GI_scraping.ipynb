{
  "nbformat": 4,
  "nbformat_minor": 0,
  "metadata": {
    "colab": {
      "provenance": [],
      "include_colab_link": true
    },
    "kernelspec": {
      "name": "python3",
      "display_name": "Python 3"
    },
    "language_info": {
      "name": "python"
    }
  },
  "cells": [
    {
      "cell_type": "markdown",
      "metadata": {
        "id": "view-in-github",
        "colab_type": "text"
      },
      "source": [
        "<a href=\"https://colab.research.google.com/github/AdriaDelhom/CGM/blob/main/GI_scraping.ipynb\" target=\"_parent\"><img src=\"https://colab.research.google.com/assets/colab-badge.svg\" alt=\"Open In Colab\"/></a>"
      ]
    },
    {
      "cell_type": "code",
      "execution_count": null,
      "metadata": {
        "id": "JYoTsIL47D2f"
      },
      "outputs": [],
      "source": [
        "import pandas as pd\n",
        "import numpy as np\n",
        "import os\n",
        "import matplotlib.pyplot as plt"
      ]
    },
    {
      "cell_type": "code",
      "source": [
        "from google.colab import drive\n",
        "drive.mount('/content/drive', force_remount=True)\n",
        "os.chdir('/content/drive/MyDrive/CGM/data')"
      ],
      "metadata": {
        "colab": {
          "base_uri": "https://localhost:8080/"
        },
        "id": "gF0mbUpgKuYU",
        "outputId": "ed4bbdd3-28c7-4739-ae5d-a8d9d2c8fa8e"
      },
      "execution_count": null,
      "outputs": [
        {
          "output_type": "stream",
          "name": "stdout",
          "text": [
            "Mounted at /content/drive\n"
          ]
        }
      ]
    },
    {
      "cell_type": "code",
      "source": [
        "ACC_HZ = 32\n",
        "ACC_G_MODE = 2\n",
        "SMALL_G = 9.81"
      ],
      "metadata": {
        "id": "wusuqk3ZLAGd"
      },
      "execution_count": null,
      "outputs": []
    },
    {
      "cell_type": "code",
      "source": [
        "class Patient:\n",
        "\n",
        "  metric_map = {\n",
        "      'acc': 'ACC',\n",
        "      'bvp': 'BVP',\n",
        "      'glu': 'Dexcom',\n",
        "      'eda': 'EDA',\n",
        "\n",
        "      'food': 'Food_Log',\n",
        "      'hr': 'HR',\n",
        "      'ibi': 'IBI',\n",
        "      'temp': 'TEMP'\n",
        "  }\n",
        "\n",
        "  def __init__(self, patient_id, gender, hba1c) -> None:\n",
        "    self.patient_id: int = patient_id\n",
        "    self.gender: str = gender\n",
        "    self.hba1c: float = hba1c\n",
        "\n",
        "    self._acc: pd.DataFrame = None\n",
        "    self._bvp: pd.DataFrame = None\n",
        "    self._glu: pd.DataFrame = None\n",
        "    self._eda: pd.DataFrame = None\n",
        "    self._food: pd.DataFrame = None\n",
        "    self._hr: pd.DataFrame = None\n",
        "    self._ibi: pd.DataFrame = None\n",
        "    self._temp: pd.DataFrame = None\n",
        "\n",
        "\n",
        "  def get_file_path(self, metric):\n",
        "    metric_name = Patient.metric_map[metric]\n",
        "    return f'./{self.patient_id:03d}/{metric_name}_{self.patient_id:03d}.csv'\n",
        "\n",
        "  @property\n",
        "  def acc(self):\n",
        "    if self._acc is None:\n",
        "      self._acc = pd.read_csv(self.get_file_path('acc'), index_col=['datetime'],\n",
        "                              parse_dates=['datetime'], engine='pyarrow')\n",
        "      self._acc.columns = [c.strip() for c in self._acc.columns]\n",
        "      # Convert all columns to m/s^2 from int8 in 2G mode\n",
        "      # TODO It is possible that values <0 should be divided by 128 and > 0 by 127\n",
        "      self._acc['acc_x'] = (self._acc['acc_x'] * ACC_G_MODE * SMALL_G) / 127\n",
        "      self._acc['acc_y'] = (self._acc['acc_y'] * ACC_G_MODE * SMALL_G) / 127\n",
        "      self._acc['acc_z'] = (self._acc['acc_z'] * ACC_G_MODE * SMALL_G) / 127\n",
        "    return self._acc\n",
        "\n",
        "  @property\n",
        "  def bvp(self):\n",
        "    if self._bvp is None:\n",
        "      self._bvp = pd.read_csv(self.get_file_path('bvp'), index_col=['datetime'],\n",
        "                              parse_dates=['datetime'], engine='pyarrow')\n",
        "      self._bvp.columns = [c.strip() for c in self._bvp.columns]\n",
        "    return self._bvp\n",
        "\n",
        "\n",
        "  @property\n",
        "  def glu(self):\n",
        "    if self._glu is None:\n",
        "      self._glu = pd.read_csv(self.get_file_path('glu'), header=0,\n",
        "                              skiprows=range(1, 13),\n",
        "                              index_col=['Timestamp (YYYY-MM-DDThh:mm:ss)'],\n",
        "                              parse_dates=['Timestamp (YYYY-MM-DDThh:mm:ss)'])\n",
        "      self._glu = self._glu.rename(columns={'Glucose Value (mg/dL)': 'glucose'})\n",
        "      self._glu = self._glu.rename_axis('datetime')\n",
        "      self._glu = self._glu[['glucose']]\n",
        "    return self._glu\n",
        "\n",
        "  @property\n",
        "  def eda(self):\n",
        "    if self._eda is None:\n",
        "      self._eda = pd.read_csv(self.get_file_path('eda'), index_col=['datetime'],\n",
        "                              parse_dates=['datetime'], engine='pyarrow')\n",
        "      self._eda.columns = [c.strip() for c in self._eda.columns]\n",
        "    return self._eda\n",
        "\n",
        "  @property\n",
        "  def food(self):\n",
        "    if self._food is None:\n",
        "      if self.patient_id == 3:\n",
        "        # Patient 3 has no header\n",
        "        self._food = pd.read_csv(self.get_file_path('food'), skipinitialspace=True)\n",
        "        self._food.columns = ['date', 'time', 'time_begin', 'logged_food', 'amount', 'unit', 'searched_food', 'calorie', 'total_carb', 'sugar', 'protein']\n",
        "        self._food['time_begin'] = pd.to_datetime(self._food['time_begin'])\n",
        "        self._food['time_end'] = None\n",
        "        self._food = self._food.set_index('time_begin')\n",
        "      else:\n",
        "        self._food = pd.read_csv(self.get_file_path('food'), index_col=['time_begin'], parse_dates=['time_begin'], skipinitialspace=True)\n",
        "\n",
        "      self._food['time_end'] = pd.to_datetime(self._food['date'] + ' ' + self._food['time_end'])\n",
        "\n",
        "      end_times = self._food.groupby('time_begin')['time_end'].min()\n",
        "      self._food = self._food.merge(end_times, how='left', on='time_begin', suffixes=('','_x'), validate='many_to_one')\n",
        "      self._food['time_end'] = self._food['time_end'].fillna(self._food['time_end_x'])\n",
        "      self._food = self._food.drop('time_end_x', axis=1)\n",
        "\n",
        "      # Fill in NaN in searched food with empty string\n",
        "      self._food['searched_food'] = self._food['searched_food'].fillna('')\n",
        "\n",
        "      # Some food logs have `time_of_day` instead of `time`\n",
        "      if self.patient_id in [7, 13, 15, 16]:\n",
        "        self._food = self._food.drop(['date', 'time_of_day'], axis=1)\n",
        "      else:\n",
        "        self._food = self._food.drop(['date', 'time'], axis=1)\n",
        "    return self._food\n",
        "\n",
        "  @property\n",
        "  def hr(self):\n",
        "    if self._hr is None:\n",
        "      # Patient 1 has no seconds recorded\n",
        "      if self.patient_id == 1:\n",
        "        self._hr = pd.read_csv('./001/HR_001.csv',\n",
        "                              parse_dates=['datetime'],\n",
        "                              date_format='%m/%d/%y %H:%M',\n",
        "                              engine='pyarrow')\n",
        "        self._hr.loc[self._hr.groupby('datetime').cumcount() + 1 != 1, 'datetime'] = pd.NaT\n",
        "        self._hr = self._hr.interpolate(method='linear')\n",
        "        self._hr = self._hr.set_index('datetime')\n",
        "      else:\n",
        "        self._hr = pd.read_csv(self.get_file_path('hr'), index_col=['datetime'],\n",
        "                              parse_dates=['datetime'], engine='pyarrow')\n",
        "      self._hr.columns = [c.strip() for c in self._hr.columns]\n",
        "\n",
        "    return self._hr\n",
        "\n",
        "  @property\n",
        "  def ibi(self):\n",
        "    if self._ibi is None:\n",
        "      self._ibi = pd.read_csv(self.get_file_path('ibi'), index_col=['datetime'],\n",
        "                              parse_dates=['datetime'], engine='pyarrow')\n",
        "      self._ibi.columns = [c.strip() for c in self._ibi.columns]\n",
        "    return self._ibi\n",
        "\n",
        "  @property\n",
        "  def temp(self):\n",
        "    if self._temp is None:\n",
        "      self._temp = pd.read_csv(self.get_file_path('temp'), index_col=['datetime'],\n",
        "                              parse_dates=['datetime'], engine='pyarrow')\n",
        "      self._temp.columns = [c.strip() for c in self._temp.columns]\n",
        "    return self._temp\n",
        "\n",
        "class CGMData:\n",
        "  patients: Patient = {}\n",
        "  demographics: pd.DataFrame = None\n",
        "\n",
        "  def __init__(self) -> None:\n",
        "    self.demographics = pd.read_csv('./Demographics.csv', index_col='ID')\n",
        "\n",
        "  def __getitem__(self, key):\n",
        "    if key < 1 or key > 16:\n",
        "      raise IndexError(f'Patient ID {key} out of range')\n",
        "    if key not in self.patients:\n",
        "      patient_demo = self.demographics.loc[key]\n",
        "      self.patients[key] = Patient(key, patient_demo['Gender'], patient_demo['HbA1c'])\n",
        "    return self.patients[key]"
      ],
      "metadata": {
        "id": "G_Y0qybkcNWS"
      },
      "execution_count": null,
      "outputs": []
    },
    {
      "cell_type": "code",
      "source": [
        "data = CGMData()\n",
        "print(data[1].gender)\n",
        "print(data[1].hba1c)\n",
        "print(data[1].glu.head(5))\n",
        "print(data[1].food.head())"
      ],
      "metadata": {
        "colab": {
          "base_uri": "https://localhost:8080/"
        },
        "id": "Rd_j4sG0Sieh",
        "outputId": "729fb991-0b70-46d6-cf99-6fdfd21a422b"
      },
      "execution_count": null,
      "outputs": [
        {
          "output_type": "stream",
          "name": "stdout",
          "text": [
            "FEMALE\n",
            "5.5\n",
            "                     glucose\n",
            "datetime                    \n",
            "2020-02-13 17:23:32     61.0\n",
            "2020-02-13 17:28:32     59.0\n",
            "2020-02-13 17:33:32     58.0\n",
            "2020-02-13 17:38:32     59.0\n",
            "2020-02-13 17:43:31     63.0\n",
            "                    time_end                    logged_food  amount  \\\n",
            "time_begin                                                            \n",
            "2020-02-13 18:00:00      NaT                 Berry Smoothie   20.00   \n",
            "2020-02-13 20:30:00      NaT                    Chicken Leg    1.00   \n",
            "2020-02-13 20:30:00      NaT                      Asparagus    4.00   \n",
            "2020-02-14 07:10:00      NaT  Natrel Lactose Free 2 Percent    8.00   \n",
            "2020-02-14 07:10:00      NaT             Standard Breakfast    0.75   \n",
            "\n",
            "                            unit  \\\n",
            "time_begin                         \n",
            "2020-02-13 18:00:00  fluid ounce   \n",
            "2020-02-13 20:30:00          NaN   \n",
            "2020-02-13 20:30:00          NaN   \n",
            "2020-02-14 07:10:00  fluid ounce   \n",
            "2020-02-14 07:10:00          cup   \n",
            "\n",
            "                                                    searched_food  calorie  \\\n",
            "time_begin                                                                   \n",
            "2020-02-13 18:00:00                           Strawberry Smoothie    456.0   \n",
            "2020-02-13 20:30:00                                   chicken leg    475.0   \n",
            "2020-02-13 20:30:00                                     Asparagus     13.0   \n",
            "2020-02-14 07:10:00  (Natrel) Lactose Free 2% Partly Skimmed Milk    120.0   \n",
            "2020-02-14 07:10:00            (Kellogg's) Frosted Flakes, Cereal    110.0   \n",
            "\n",
            "                     total_carb  dietary_fiber  sugar  protein  total_fat  \n",
            "time_begin                                                                 \n",
            "2020-02-13 18:00:00        85.0            1.7   83.0     16.0        3.3  \n",
            "2020-02-13 20:30:00         0.0            0.0    0.0     62.0       23.0  \n",
            "2020-02-13 20:30:00         2.5            1.2    0.8      1.4        0.1  \n",
            "2020-02-14 07:10:00         9.0            NaN    8.0     12.0        NaN  \n",
            "2020-02-14 07:10:00        26.0            NaN   10.0      1.0        NaN  \n"
          ]
        }
      ]
    },
    {
      "cell_type": "code",
      "source": [
        "pd.unique(data[2].food['searched_food'])"
      ],
      "metadata": {
        "colab": {
          "base_uri": "https://localhost:8080/"
        },
        "id": "vjP0cMj7GW7u",
        "outputId": "08e34645-4a6d-4019-d6e7-f181ed624a40"
      },
      "execution_count": null,
      "outputs": [
        {
          "output_type": "execute_result",
          "data": {
            "text/plain": [
              "array(['Mello Yello',\n",
              "       '(Jimmy Dean) Sandwiches, Biscuit Southern Style Chicken',\n",
              "       'Large Beef Jerky', 'Gatorade Fierce Grape',\n",
              "       'Banquet Chicken Pot Pie',\n",
              "       'Red Baron, Brick Oven Crust Pizza, Pepperoni',\n",
              "       \"M&M's Milk Chocolate Candies (formerly M&M's Plain Chocolate Candies)\",\n",
              "       '(Natrel) Lactose Free 2% Partly Skimmed Milk',\n",
              "       \"(Kellogg's) Frosted Flakes, Cereal\", 'Powerade Sports Drink',\n",
              "       \"Stouffer's, Salisbury Steak\", 'Mashed Potato', 'Chocolate Milk',\n",
              "       'Frozen novelties, ice type, pop', 'Bacon And Cheese Omelette',\n",
              "       \"(Arby's) Classic Roast Beef\", 'Tortilla Chips', 'Salsa',\n",
              "       'Mountain Dew', 'Cheeseburger With Chili', 'Tater Tots',\n",
              "       'Fast foods, onion rings, breaded and fried', 'Sweet Tea',\n",
              "       'NABISCO, NEWTONS, FRUIT CHEWY COOKIES, FIG', 'Water',\n",
              "       'Gatorade Fruit Punch', 'Mandarin Oranges', 'Vienna Sausage',\n",
              "       '(Lance) Toast Chee Crackers, Cheddar Cheese', 'Tootsie Roll',\n",
              "       'Steak', 'Fried Potato', 'Ice Cream',\n",
              "       '(Jimmy Dean) Biscuit, Sausage Egg & Cheese', 'Chex Mix',\n",
              "       'Fig Bar', 'Ribs', 'Mash Potato', 'Cake', 'Rice Krispies',\n",
              "       '(Hamburger Helper) Deluxe Cheeseburger Macaroni',\n",
              "       'Chocolate Cake', ''], dtype=object)"
            ]
          },
          "metadata": {},
          "execution_count": 17
        }
      ]
    },
    {
      "cell_type": "markdown",
      "source": [
        "# Web Scraping"
      ],
      "metadata": {
        "id": "k6-4zXz_CDIS"
      }
    },
    {
      "cell_type": "code",
      "source": [
        "from bs4 import BeautifulSoup\n",
        "import requests"
      ],
      "metadata": {
        "id": "hFAtshtMzHY3"
      },
      "execution_count": null,
      "outputs": []
    },
    {
      "cell_type": "code",
      "source": [
        "URL = \"https://glycemicindex.com/gi-search/?food_name=frosted\"\n",
        "page = requests.get(URL)"
      ],
      "metadata": {
        "id": "8dhAlmg_znDU"
      },
      "execution_count": null,
      "outputs": []
    },
    {
      "cell_type": "code",
      "source": [
        "soup = BeautifulSoup(page.text, 'html.parser')\n",
        "print(soup.prettify)"
      ],
      "metadata": {
        "colab": {
          "base_uri": "https://localhost:8080/"
        },
        "id": "J8E6iFjY0QDa",
        "outputId": "3284a220-69c7-42c3-bb8b-938aaffcb7fc",
        "collapsed": true
      },
      "execution_count": null,
      "outputs": []
    },
    {
      "cell_type": "code",
      "source": [
        "soup.find_all('tr')[0]"
      ],
      "metadata": {
        "colab": {
          "base_uri": "https://localhost:8080/"
        },
        "id": "Btp7-evI2fu_",
        "outputId": "fd2b7ccc-3824-461e-d759-c9f017ef5f9c"
      },
      "execution_count": null,
      "outputs": [
        {
          "output_type": "execute_result",
          "data": {
            "text/plain": [
              "<tr class=\"row-1 odd\">\n",
              "<th class=\"column-1\">Food Name</th><th class=\"column-2\">GI</th><th class=\"column-3\">Food Manufacturer</th><th class=\"column-4\">Product Category</th><th class=\"column-5\">Country of food production</th><th class=\"column-6\">Serving Size (g)</th><th class=\"column-7\">Average carbohydrate portion (g)</th><th class=\"column-8\">GL (based on average carbohydrate potion)</th><th class=\"column-9\">Reference:</th><th class=\"column-10\">Subjects type</th><th class=\"column-11\">Time</th><th class=\"column-12\">Subjects Number</th><th class=\"column-13\">Year of test</th>\n",
              "</tr>"
            ]
          },
          "metadata": {},
          "execution_count": 40
        }
      ]
    },
    {
      "cell_type": "code",
      "source": [
        "row_number = 55\n",
        "[soup.find_all('tr')[row_number].find_all('td')[0].string, soup.find_all('tr')[row_number].find_all('td')[5].string, soup.find_all('tr')[row_number].find_all('td')[6].string]"
      ],
      "metadata": {
        "colab": {
          "base_uri": "https://localhost:8080/"
        },
        "id": "xGbkFC643xsV",
        "outputId": "88efbd13-7301-47d3-923c-ad48275eedfd"
      },
      "execution_count": null,
      "outputs": [
        {
          "output_type": "execute_result",
          "data": {
            "text/plain": [
              "['Pancakes, prepared from wheat flour', None, '30']"
            ]
          },
          "metadata": {},
          "execution_count": 47
        }
      ]
    },
    {
      "cell_type": "code",
      "source": [
        "data = []\n",
        "first = True\n",
        "for row in soup.find_all('tr'):\n",
        "  if first:\n",
        "    first = False\n",
        "    continue\n",
        "  data.append([row.find_all('td')[0].string, row.find_all('td')[1].string, row.find_all('td')[5].string,row.find_all('td')[6].string, row.find_all('td')[7].string])"
      ],
      "metadata": {
        "id": "kP0UZlcx6p5C"
      },
      "execution_count": null,
      "outputs": []
    },
    {
      "cell_type": "code",
      "source": [
        "scraped_data = pd.DataFrame(data, columns = ['Food Name', 'GI', 'Serving Size', 'Carb Serving', 'GL'])"
      ],
      "metadata": {
        "id": "ORo5jaxf7hDg"
      },
      "execution_count": null,
      "outputs": []
    },
    {
      "cell_type": "code",
      "source": [
        "scraped_data.head()"
      ],
      "metadata": {
        "colab": {
          "base_uri": "https://localhost:8080/",
          "height": 206
        },
        "id": "TGxZwmxa9r9c",
        "outputId": "e5197437-9f3a-4dfb-d3f6-869f911d6635"
      },
      "execution_count": null,
      "outputs": [
        {
          "output_type": "execute_result",
          "data": {
            "text/plain": [
              "                                           Food Name  GI Serving Size  \\\n",
              "0  Cake, NS, decreased GI variant, sugar-to-flour...  20         None   \n",
              "1  Carrot cake, prepared with wheat flour and coc...  37         None   \n",
              "2  Chocolate cake made from packet mix with choco...  38         None   \n",
              "3                                 Chocolate mudcake   43         None   \n",
              "4                              Christmas fruit cake   53         None   \n",
              "\n",
              "  Carb Serving  GL  \n",
              "0           30   6  \n",
              "1           30  11  \n",
              "2           30  11  \n",
              "3           30  13  \n",
              "4           30  16  "
            ],
            "text/html": [
              "\n",
              "  <div id=\"df-12ae56e7-92c2-40db-a6fd-509443ccfbec\" class=\"colab-df-container\">\n",
              "    <div>\n",
              "<style scoped>\n",
              "    .dataframe tbody tr th:only-of-type {\n",
              "        vertical-align: middle;\n",
              "    }\n",
              "\n",
              "    .dataframe tbody tr th {\n",
              "        vertical-align: top;\n",
              "    }\n",
              "\n",
              "    .dataframe thead th {\n",
              "        text-align: right;\n",
              "    }\n",
              "</style>\n",
              "<table border=\"1\" class=\"dataframe\">\n",
              "  <thead>\n",
              "    <tr style=\"text-align: right;\">\n",
              "      <th></th>\n",
              "      <th>Food Name</th>\n",
              "      <th>GI</th>\n",
              "      <th>Serving Size</th>\n",
              "      <th>Carb Serving</th>\n",
              "      <th>GL</th>\n",
              "    </tr>\n",
              "  </thead>\n",
              "  <tbody>\n",
              "    <tr>\n",
              "      <th>0</th>\n",
              "      <td>Cake, NS, decreased GI variant, sugar-to-flour...</td>\n",
              "      <td>20</td>\n",
              "      <td>None</td>\n",
              "      <td>30</td>\n",
              "      <td>6</td>\n",
              "    </tr>\n",
              "    <tr>\n",
              "      <th>1</th>\n",
              "      <td>Carrot cake, prepared with wheat flour and coc...</td>\n",
              "      <td>37</td>\n",
              "      <td>None</td>\n",
              "      <td>30</td>\n",
              "      <td>11</td>\n",
              "    </tr>\n",
              "    <tr>\n",
              "      <th>2</th>\n",
              "      <td>Chocolate cake made from packet mix with choco...</td>\n",
              "      <td>38</td>\n",
              "      <td>None</td>\n",
              "      <td>30</td>\n",
              "      <td>11</td>\n",
              "    </tr>\n",
              "    <tr>\n",
              "      <th>3</th>\n",
              "      <td>Chocolate mudcake</td>\n",
              "      <td>43</td>\n",
              "      <td>None</td>\n",
              "      <td>30</td>\n",
              "      <td>13</td>\n",
              "    </tr>\n",
              "    <tr>\n",
              "      <th>4</th>\n",
              "      <td>Christmas fruit cake</td>\n",
              "      <td>53</td>\n",
              "      <td>None</td>\n",
              "      <td>30</td>\n",
              "      <td>16</td>\n",
              "    </tr>\n",
              "  </tbody>\n",
              "</table>\n",
              "</div>\n",
              "    <div class=\"colab-df-buttons\">\n",
              "\n",
              "  <div class=\"colab-df-container\">\n",
              "    <button class=\"colab-df-convert\" onclick=\"convertToInteractive('df-12ae56e7-92c2-40db-a6fd-509443ccfbec')\"\n",
              "            title=\"Convert this dataframe to an interactive table.\"\n",
              "            style=\"display:none;\">\n",
              "\n",
              "  <svg xmlns=\"http://www.w3.org/2000/svg\" height=\"24px\" viewBox=\"0 -960 960 960\">\n",
              "    <path d=\"M120-120v-720h720v720H120Zm60-500h600v-160H180v160Zm220 220h160v-160H400v160Zm0 220h160v-160H400v160ZM180-400h160v-160H180v160Zm440 0h160v-160H620v160ZM180-180h160v-160H180v160Zm440 0h160v-160H620v160Z\"/>\n",
              "  </svg>\n",
              "    </button>\n",
              "\n",
              "  <style>\n",
              "    .colab-df-container {\n",
              "      display:flex;\n",
              "      gap: 12px;\n",
              "    }\n",
              "\n",
              "    .colab-df-convert {\n",
              "      background-color: #E8F0FE;\n",
              "      border: none;\n",
              "      border-radius: 50%;\n",
              "      cursor: pointer;\n",
              "      display: none;\n",
              "      fill: #1967D2;\n",
              "      height: 32px;\n",
              "      padding: 0 0 0 0;\n",
              "      width: 32px;\n",
              "    }\n",
              "\n",
              "    .colab-df-convert:hover {\n",
              "      background-color: #E2EBFA;\n",
              "      box-shadow: 0px 1px 2px rgba(60, 64, 67, 0.3), 0px 1px 3px 1px rgba(60, 64, 67, 0.15);\n",
              "      fill: #174EA6;\n",
              "    }\n",
              "\n",
              "    .colab-df-buttons div {\n",
              "      margin-bottom: 4px;\n",
              "    }\n",
              "\n",
              "    [theme=dark] .colab-df-convert {\n",
              "      background-color: #3B4455;\n",
              "      fill: #D2E3FC;\n",
              "    }\n",
              "\n",
              "    [theme=dark] .colab-df-convert:hover {\n",
              "      background-color: #434B5C;\n",
              "      box-shadow: 0px 1px 3px 1px rgba(0, 0, 0, 0.15);\n",
              "      filter: drop-shadow(0px 1px 2px rgba(0, 0, 0, 0.3));\n",
              "      fill: #FFFFFF;\n",
              "    }\n",
              "  </style>\n",
              "\n",
              "    <script>\n",
              "      const buttonEl =\n",
              "        document.querySelector('#df-12ae56e7-92c2-40db-a6fd-509443ccfbec button.colab-df-convert');\n",
              "      buttonEl.style.display =\n",
              "        google.colab.kernel.accessAllowed ? 'block' : 'none';\n",
              "\n",
              "      async function convertToInteractive(key) {\n",
              "        const element = document.querySelector('#df-12ae56e7-92c2-40db-a6fd-509443ccfbec');\n",
              "        const dataTable =\n",
              "          await google.colab.kernel.invokeFunction('convertToInteractive',\n",
              "                                                    [key], {});\n",
              "        if (!dataTable) return;\n",
              "\n",
              "        const docLinkHtml = 'Like what you see? Visit the ' +\n",
              "          '<a target=\"_blank\" href=https://colab.research.google.com/notebooks/data_table.ipynb>data table notebook</a>'\n",
              "          + ' to learn more about interactive tables.';\n",
              "        element.innerHTML = '';\n",
              "        dataTable['output_type'] = 'display_data';\n",
              "        await google.colab.output.renderOutput(dataTable, element);\n",
              "        const docLink = document.createElement('div');\n",
              "        docLink.innerHTML = docLinkHtml;\n",
              "        element.appendChild(docLink);\n",
              "      }\n",
              "    </script>\n",
              "  </div>\n",
              "\n",
              "\n",
              "<div id=\"df-9ca92b46-7e2c-4825-a29d-0fc615e80790\">\n",
              "  <button class=\"colab-df-quickchart\" onclick=\"quickchart('df-9ca92b46-7e2c-4825-a29d-0fc615e80790')\"\n",
              "            title=\"Suggest charts\"\n",
              "            style=\"display:none;\">\n",
              "\n",
              "<svg xmlns=\"http://www.w3.org/2000/svg\" height=\"24px\"viewBox=\"0 0 24 24\"\n",
              "     width=\"24px\">\n",
              "    <g>\n",
              "        <path d=\"M19 3H5c-1.1 0-2 .9-2 2v14c0 1.1.9 2 2 2h14c1.1 0 2-.9 2-2V5c0-1.1-.9-2-2-2zM9 17H7v-7h2v7zm4 0h-2V7h2v10zm4 0h-2v-4h2v4z\"/>\n",
              "    </g>\n",
              "</svg>\n",
              "  </button>\n",
              "\n",
              "<style>\n",
              "  .colab-df-quickchart {\n",
              "      --bg-color: #E8F0FE;\n",
              "      --fill-color: #1967D2;\n",
              "      --hover-bg-color: #E2EBFA;\n",
              "      --hover-fill-color: #174EA6;\n",
              "      --disabled-fill-color: #AAA;\n",
              "      --disabled-bg-color: #DDD;\n",
              "  }\n",
              "\n",
              "  [theme=dark] .colab-df-quickchart {\n",
              "      --bg-color: #3B4455;\n",
              "      --fill-color: #D2E3FC;\n",
              "      --hover-bg-color: #434B5C;\n",
              "      --hover-fill-color: #FFFFFF;\n",
              "      --disabled-bg-color: #3B4455;\n",
              "      --disabled-fill-color: #666;\n",
              "  }\n",
              "\n",
              "  .colab-df-quickchart {\n",
              "    background-color: var(--bg-color);\n",
              "    border: none;\n",
              "    border-radius: 50%;\n",
              "    cursor: pointer;\n",
              "    display: none;\n",
              "    fill: var(--fill-color);\n",
              "    height: 32px;\n",
              "    padding: 0;\n",
              "    width: 32px;\n",
              "  }\n",
              "\n",
              "  .colab-df-quickchart:hover {\n",
              "    background-color: var(--hover-bg-color);\n",
              "    box-shadow: 0 1px 2px rgba(60, 64, 67, 0.3), 0 1px 3px 1px rgba(60, 64, 67, 0.15);\n",
              "    fill: var(--button-hover-fill-color);\n",
              "  }\n",
              "\n",
              "  .colab-df-quickchart-complete:disabled,\n",
              "  .colab-df-quickchart-complete:disabled:hover {\n",
              "    background-color: var(--disabled-bg-color);\n",
              "    fill: var(--disabled-fill-color);\n",
              "    box-shadow: none;\n",
              "  }\n",
              "\n",
              "  .colab-df-spinner {\n",
              "    border: 2px solid var(--fill-color);\n",
              "    border-color: transparent;\n",
              "    border-bottom-color: var(--fill-color);\n",
              "    animation:\n",
              "      spin 1s steps(1) infinite;\n",
              "  }\n",
              "\n",
              "  @keyframes spin {\n",
              "    0% {\n",
              "      border-color: transparent;\n",
              "      border-bottom-color: var(--fill-color);\n",
              "      border-left-color: var(--fill-color);\n",
              "    }\n",
              "    20% {\n",
              "      border-color: transparent;\n",
              "      border-left-color: var(--fill-color);\n",
              "      border-top-color: var(--fill-color);\n",
              "    }\n",
              "    30% {\n",
              "      border-color: transparent;\n",
              "      border-left-color: var(--fill-color);\n",
              "      border-top-color: var(--fill-color);\n",
              "      border-right-color: var(--fill-color);\n",
              "    }\n",
              "    40% {\n",
              "      border-color: transparent;\n",
              "      border-right-color: var(--fill-color);\n",
              "      border-top-color: var(--fill-color);\n",
              "    }\n",
              "    60% {\n",
              "      border-color: transparent;\n",
              "      border-right-color: var(--fill-color);\n",
              "    }\n",
              "    80% {\n",
              "      border-color: transparent;\n",
              "      border-right-color: var(--fill-color);\n",
              "      border-bottom-color: var(--fill-color);\n",
              "    }\n",
              "    90% {\n",
              "      border-color: transparent;\n",
              "      border-bottom-color: var(--fill-color);\n",
              "    }\n",
              "  }\n",
              "</style>\n",
              "\n",
              "  <script>\n",
              "    async function quickchart(key) {\n",
              "      const quickchartButtonEl =\n",
              "        document.querySelector('#' + key + ' button');\n",
              "      quickchartButtonEl.disabled = true;  // To prevent multiple clicks.\n",
              "      quickchartButtonEl.classList.add('colab-df-spinner');\n",
              "      try {\n",
              "        const charts = await google.colab.kernel.invokeFunction(\n",
              "            'suggestCharts', [key], {});\n",
              "      } catch (error) {\n",
              "        console.error('Error during call to suggestCharts:', error);\n",
              "      }\n",
              "      quickchartButtonEl.classList.remove('colab-df-spinner');\n",
              "      quickchartButtonEl.classList.add('colab-df-quickchart-complete');\n",
              "    }\n",
              "    (() => {\n",
              "      let quickchartButtonEl =\n",
              "        document.querySelector('#df-9ca92b46-7e2c-4825-a29d-0fc615e80790 button');\n",
              "      quickchartButtonEl.style.display =\n",
              "        google.colab.kernel.accessAllowed ? 'block' : 'none';\n",
              "    })();\n",
              "  </script>\n",
              "</div>\n",
              "\n",
              "    </div>\n",
              "  </div>\n"
            ],
            "application/vnd.google.colaboratory.intrinsic+json": {
              "type": "dataframe",
              "variable_name": "scraped_data",
              "summary": "{\n  \"name\": \"scraped_data\",\n  \"rows\": 4249,\n  \"fields\": [\n    {\n      \"column\": \"Food Name\",\n      \"properties\": {\n        \"dtype\": \"string\",\n        \"num_unique_values\": 3843,\n        \"samples\": [\n          \"Combos Snacks Cheddar Cheese Crackers \",\n          \"Rice, white, NS, boiled for 45-60 min on mild heat #\",\n          \"Tomato soup, condensed, prepared with water\"\n        ],\n        \"semantic_type\": \"\",\n        \"description\": \"\"\n      }\n    },\n    {\n      \"column\": \"GI\",\n      \"properties\": {\n        \"dtype\": \"category\",\n        \"num_unique_values\": 124,\n        \"samples\": [\n          \"41\",\n          \"44\",\n          \"102\"\n        ],\n        \"semantic_type\": \"\",\n        \"description\": \"\"\n      }\n    },\n    {\n      \"column\": \"Serving Size\",\n      \"properties\": {\n        \"dtype\": \"category\",\n        \"num_unique_values\": 8,\n        \"samples\": [\n          \"40\",\n          \"10\",\n          \"15\"\n        ],\n        \"semantic_type\": \"\",\n        \"description\": \"\"\n      }\n    },\n    {\n      \"column\": \"Carb Serving\",\n      \"properties\": {\n        \"dtype\": \"category\",\n        \"num_unique_values\": 23,\n        \"samples\": [\n          \"21\",\n          \"2.5\",\n          \"30\"\n        ],\n        \"semantic_type\": \"\",\n        \"description\": \"\"\n      }\n    },\n    {\n      \"column\": \"GL\",\n      \"properties\": {\n        \"dtype\": \"category\",\n        \"num_unique_values\": 56,\n        \"samples\": [\n          \"6\",\n          \"14\",\n          \"30\"\n        ],\n        \"semantic_type\": \"\",\n        \"description\": \"\"\n      }\n    }\n  ]\n}"
            }
          },
          "metadata": {},
          "execution_count": 73
        }
      ]
    },
    {
      "cell_type": "code",
      "source": [
        "scraped_data.iloc[1,1]"
      ],
      "metadata": {
        "colab": {
          "base_uri": "https://localhost:8080/",
          "height": 35
        },
        "id": "0_RMEzyOB5Vi",
        "outputId": "f14ffe08-08d9-4718-fd04-5ac195db76ac"
      },
      "execution_count": null,
      "outputs": [
        {
          "output_type": "execute_result",
          "data": {
            "text/plain": [
              "'37'"
            ],
            "application/vnd.google.colaboratory.intrinsic+json": {
              "type": "string"
            }
          },
          "metadata": {},
          "execution_count": 74
        }
      ]
    },
    {
      "cell_type": "code",
      "source": [
        "scraped_data.to_csv('GI_data.csv', sep=',', na_rep='NaN')"
      ],
      "metadata": {
        "id": "R4BYAvdi-aa4"
      },
      "execution_count": null,
      "outputs": []
    },
    {
      "cell_type": "markdown",
      "source": [
        "Matching GI with foods was done locally (LLM_GI.ipynb)\n",
        "\n",
        "# Assembling GI Dataframe"
      ],
      "metadata": {
        "id": "13w4vwgod4N6"
      }
    },
    {
      "cell_type": "code",
      "source": [
        "import pickle\n",
        "\n",
        "with open('GI_known_dict.pkl', 'rb') as f:\n",
        "    GI_known = pickle.load(f)\n",
        "\n",
        "with open('GI_guessed_dict.pkl', 'rb') as f:\n",
        "    GI_guessed = pickle.load(f)"
      ],
      "metadata": {
        "id": "h_UumnzReGTW"
      },
      "execution_count": null,
      "outputs": []
    },
    {
      "cell_type": "code",
      "source": [
        "GI_values = {'High': 85, 'Med': 62, 'Low': 28}"
      ],
      "metadata": {
        "id": "9sYYxktuhN_Q"
      },
      "execution_count": null,
      "outputs": []
    },
    {
      "cell_type": "code",
      "source": [
        "GI_known['Baked Beans']"
      ],
      "metadata": {
        "colab": {
          "base_uri": "https://localhost:8080/"
        },
        "id": "P-pMabfefu2I",
        "outputId": "eeca19da-86a2-4c4a-b8c5-ad46136fdfc8"
      },
      "execution_count": null,
      "outputs": [
        {
          "output_type": "execute_result",
          "data": {
            "text/plain": [
              "Food Name       Baked Beans in Cheesy Tomato sauce\n",
              "GI                                              44\n",
              "Serving Size                                   NaN\n",
              "Carb Serving                                  15.0\n",
              "GL                                             7.0\n",
              "Name: 1277, dtype: object"
            ]
          },
          "metadata": {},
          "execution_count": 15
        }
      ]
    },
    {
      "cell_type": "code",
      "source": [
        "GI_dataframe = []\n",
        "for patient_id in range(1, 17):\n",
        "  patient_data = []\n",
        "  for idx, row in data[patient_id].food.iterrows():\n",
        "    if row['searched_food'] in GI_known:\n",
        "      patient_data.append([GI_known[row['searched_food']]['Food Name'], GI_known[row['searched_food']]['GI']])\n",
        "    else:\n",
        "      if row['searched_food'] in GI_guessed:\n",
        "        patient_data.append([GI_guessed[row['searched_food']], GI_values[GI_guessed[row['searched_food']]]])\n",
        "      else:\n",
        "        patient_data.append(['High', GI_values['High']]) #for the very last entries, 'Boost' (which seems to be a high-sugar energy drink)\n",
        "  GI_dataframe.append(pd.DataFrame(patient_data, columns = ['GI_Food', 'GI']))"
      ],
      "metadata": {
        "id": "kd4eYxeseitH"
      },
      "execution_count": null,
      "outputs": []
    },
    {
      "cell_type": "code",
      "source": [
        "for i in range(16):\n",
        "  GI_dataframe[i].index = data[i+1].food.index"
      ],
      "metadata": {
        "id": "MMrkMg9QkDTV"
      },
      "execution_count": null,
      "outputs": []
    },
    {
      "cell_type": "code",
      "source": [
        "for i in range(16):\n",
        "  file_name = 'GI_' + str(i+1) + '.csv'\n",
        "  GI_dataframe[i].to_csv(file_name, sep=',', na_rep='NaN')"
      ],
      "metadata": {
        "id": "XSmRt0qejSgX"
      },
      "execution_count": null,
      "outputs": []
    }
  ]
}